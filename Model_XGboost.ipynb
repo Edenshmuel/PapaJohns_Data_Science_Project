{
  "nbformat": 4,
  "nbformat_minor": 0,
  "metadata": {
    "colab": {
      "provenance": [],
      "include_colab_link": true
    },
    "kernelspec": {
      "name": "python3",
      "display_name": "Python 3"
    },
    "language_info": {
      "name": "python"
    }
  },
  "cells": [
    {
      "cell_type": "markdown",
      "metadata": {
        "id": "view-in-github",
        "colab_type": "text"
      },
      "source": [
        "<a href=\"https://colab.research.google.com/github/Edenshmuel/PapaJohns_Data_Science_Project/blob/Nadav/Model_XGboost.ipynb\" target=\"_parent\"><img src=\"https://colab.research.google.com/assets/colab-badge.svg\" alt=\"Open In Colab\"/></a>"
      ]
    },
    {
      "cell_type": "code",
      "source": [
        "from google.colab import drive\n",
        "drive.flush_and_unmount()"
      ],
      "metadata": {
        "id": "ELyXu2Th0uf8",
        "outputId": "e090bd27-4cc6-450d-f0de-67f4bc513ecf",
        "colab": {
          "base_uri": "https://localhost:8080/"
        }
      },
      "execution_count": 1,
      "outputs": [
        {
          "output_type": "stream",
          "name": "stdout",
          "text": [
            "Drive not mounted, so nothing to flush and unmount.\n"
          ]
        }
      ]
    },
    {
      "cell_type": "code",
      "execution_count": 2,
      "metadata": {
        "colab": {
          "base_uri": "https://localhost:8080/"
        },
        "id": "b2qn3gCtZ_Qa",
        "outputId": "e93b530c-f8fe-4838-f8e8-f16623459158"
      },
      "outputs": [
        {
          "output_type": "stream",
          "name": "stdout",
          "text": [
            "Mounted at /content/drive\n"
          ]
        }
      ],
      "source": [
        "drive.mount('/content/drive')"
      ]
    },
    {
      "cell_type": "code",
      "source": [
        "import pandas as pd\n",
        "import numpy as np\n",
        "from sklearn.model_selection import train_test_split\n",
        "from sklearn.metrics import mean_absolute_error, mean_squared_error, r2_score\n",
        "from sklearn.preprocessing import LabelEncoder\n",
        "import xgboost as xgb\n",
        "from holidays import country_holidays\n",
        "import matplotlib.pyplot as plt"
      ],
      "metadata": {
        "id": "oV_q6ZDEa9lt"
      },
      "execution_count": 3,
      "outputs": []
    },
    {
      "cell_type": "code",
      "source": [
        "cleaned_data = pd.read_csv('/content/drive/MyDrive/Final_Project_PapaJohns/cleaned_data.csv')"
      ],
      "metadata": {
        "id": "xuMVWoF8aiVE"
      },
      "execution_count": 4,
      "outputs": []
    },
    {
      "cell_type": "code",
      "source": [
        "desc_encoding_map = pd.read_csv('/content/drive/MyDrive/Final_Project_PapaJohns/desc_encoding_map.csv')"
      ],
      "metadata": {
        "id": "hoOYk_KD92Zy"
      },
      "execution_count": 5,
      "outputs": []
    },
    {
      "cell_type": "code",
      "source": [
        "# עותק מהנתונים המקוריים\n",
        "df = cleaned_data.copy()"
      ],
      "metadata": {
        "id": "BjSPBRbmZDC5"
      },
      "execution_count": 6,
      "outputs": []
    },
    {
      "cell_type": "code",
      "source": [
        "# הסרת עמודות טקסטואליות/מיותרות\n",
        "columns_to_drop = ['christian_holiday_name', 'jewish_holiday_name', 'Date', 'order', 'סכום']\n",
        "df = df.drop(columns=columns_to_drop, errors='ignore')"
      ],
      "metadata": {
        "id": "pqQ3eMjoX5ZI"
      },
      "execution_count": 7,
      "outputs": []
    },
    {
      "cell_type": "code",
      "source": [
        "# recent_avg_quantity\n",
        "df['recent_avg_quantity'] = (df.groupby('clean_desc_encoded')['כמות']\n",
        "    .rolling(window=30, min_periods=1).mean()\n",
        "    .reset_index(0, drop=True))"
      ],
      "metadata": {
        "id": "6d7ejUaMX5Wk"
      },
      "execution_count": 8,
      "outputs": []
    },
    {
      "cell_type": "code",
      "source": [
        "# הגדרת מטרת החיזוי והפיצ'רים\n",
        "target = 'כמות'\n",
        "X = df.drop(columns=[target])\n",
        "y = df[target]"
      ],
      "metadata": {
        "id": "VYUONU7FYFHj"
      },
      "execution_count": 9,
      "outputs": []
    },
    {
      "cell_type": "code",
      "source": [
        "X_train_val, X_test, y_train_val, y_test = train_test_split(X, y, test_size=0.2, random_state=42)\n",
        "X_train, X_val, y_train, y_val = train_test_split(X_train_val, y_train_val, test_size=0.2, random_state=42)"
      ],
      "metadata": {
        "id": "wcEbvWOd0Djb"
      },
      "execution_count": 10,
      "outputs": []
    },
    {
      "cell_type": "code",
      "source": [
        "object_columns = X_train.select_dtypes(include='object').columns"
      ],
      "metadata": {
        "id": "DCOr6VEQA7z_"
      },
      "execution_count": 11,
      "outputs": []
    },
    {
      "cell_type": "code",
      "source": [
        "encoders = {}\n",
        "for col in object_columns:\n",
        "    le = LabelEncoder()\n",
        "    X_train[col] = le.fit_transform(X_train[col].astype(str))\n",
        "    X_val[col] = le.transform(X_val[col].astype(str))\n",
        "    X_test[col] = le.transform(X_test[col].astype(str))\n",
        "    encoders[col] = le  # לשמירה אם נצטרך תחזית בעתיד"
      ],
      "metadata": {
        "id": "ve3dNPDbA_S7"
      },
      "execution_count": 12,
      "outputs": []
    },
    {
      "cell_type": "code",
      "source": [
        "# בניית המודל\n",
        "model = xgb.XGBRegressor(\n",
        "    n_estimators=100,\n",
        "    max_depth=6,\n",
        "    learning_rate=0.1,\n",
        "    subsample=0.8,\n",
        "    colsample_bytree=0.8,\n",
        "    random_state=42)\n",
        "\n",
        "# אימון המודל\n",
        "model.fit(X_train, y_train)"
      ],
      "metadata": {
        "colab": {
          "base_uri": "https://localhost:8080/",
          "height": 253
        },
        "id": "KUEfLUOrEfTm",
        "outputId": "7d5cbca5-12d4-47c1-f4c3-520d34cc8d1b"
      },
      "execution_count": 13,
      "outputs": [
        {
          "output_type": "execute_result",
          "data": {
            "text/plain": [
              "XGBRegressor(base_score=None, booster=None, callbacks=None,\n",
              "             colsample_bylevel=None, colsample_bynode=None,\n",
              "             colsample_bytree=0.8, device=None, early_stopping_rounds=None,\n",
              "             enable_categorical=False, eval_metric=None, feature_types=None,\n",
              "             gamma=None, grow_policy=None, importance_type=None,\n",
              "             interaction_constraints=None, learning_rate=0.1, max_bin=None,\n",
              "             max_cat_threshold=None, max_cat_to_onehot=None,\n",
              "             max_delta_step=None, max_depth=6, max_leaves=None,\n",
              "             min_child_weight=None, missing=nan, monotone_constraints=None,\n",
              "             multi_strategy=None, n_estimators=100, n_jobs=None,\n",
              "             num_parallel_tree=None, random_state=42, ...)"
            ],
            "text/html": [
              "<style>#sk-container-id-1 {\n",
              "  /* Definition of color scheme common for light and dark mode */\n",
              "  --sklearn-color-text: #000;\n",
              "  --sklearn-color-text-muted: #666;\n",
              "  --sklearn-color-line: gray;\n",
              "  /* Definition of color scheme for unfitted estimators */\n",
              "  --sklearn-color-unfitted-level-0: #fff5e6;\n",
              "  --sklearn-color-unfitted-level-1: #f6e4d2;\n",
              "  --sklearn-color-unfitted-level-2: #ffe0b3;\n",
              "  --sklearn-color-unfitted-level-3: chocolate;\n",
              "  /* Definition of color scheme for fitted estimators */\n",
              "  --sklearn-color-fitted-level-0: #f0f8ff;\n",
              "  --sklearn-color-fitted-level-1: #d4ebff;\n",
              "  --sklearn-color-fitted-level-2: #b3dbfd;\n",
              "  --sklearn-color-fitted-level-3: cornflowerblue;\n",
              "\n",
              "  /* Specific color for light theme */\n",
              "  --sklearn-color-text-on-default-background: var(--sg-text-color, var(--theme-code-foreground, var(--jp-content-font-color1, black)));\n",
              "  --sklearn-color-background: var(--sg-background-color, var(--theme-background, var(--jp-layout-color0, white)));\n",
              "  --sklearn-color-border-box: var(--sg-text-color, var(--theme-code-foreground, var(--jp-content-font-color1, black)));\n",
              "  --sklearn-color-icon: #696969;\n",
              "\n",
              "  @media (prefers-color-scheme: dark) {\n",
              "    /* Redefinition of color scheme for dark theme */\n",
              "    --sklearn-color-text-on-default-background: var(--sg-text-color, var(--theme-code-foreground, var(--jp-content-font-color1, white)));\n",
              "    --sklearn-color-background: var(--sg-background-color, var(--theme-background, var(--jp-layout-color0, #111)));\n",
              "    --sklearn-color-border-box: var(--sg-text-color, var(--theme-code-foreground, var(--jp-content-font-color1, white)));\n",
              "    --sklearn-color-icon: #878787;\n",
              "  }\n",
              "}\n",
              "\n",
              "#sk-container-id-1 {\n",
              "  color: var(--sklearn-color-text);\n",
              "}\n",
              "\n",
              "#sk-container-id-1 pre {\n",
              "  padding: 0;\n",
              "}\n",
              "\n",
              "#sk-container-id-1 input.sk-hidden--visually {\n",
              "  border: 0;\n",
              "  clip: rect(1px 1px 1px 1px);\n",
              "  clip: rect(1px, 1px, 1px, 1px);\n",
              "  height: 1px;\n",
              "  margin: -1px;\n",
              "  overflow: hidden;\n",
              "  padding: 0;\n",
              "  position: absolute;\n",
              "  width: 1px;\n",
              "}\n",
              "\n",
              "#sk-container-id-1 div.sk-dashed-wrapped {\n",
              "  border: 1px dashed var(--sklearn-color-line);\n",
              "  margin: 0 0.4em 0.5em 0.4em;\n",
              "  box-sizing: border-box;\n",
              "  padding-bottom: 0.4em;\n",
              "  background-color: var(--sklearn-color-background);\n",
              "}\n",
              "\n",
              "#sk-container-id-1 div.sk-container {\n",
              "  /* jupyter's `normalize.less` sets `[hidden] { display: none; }`\n",
              "     but bootstrap.min.css set `[hidden] { display: none !important; }`\n",
              "     so we also need the `!important` here to be able to override the\n",
              "     default hidden behavior on the sphinx rendered scikit-learn.org.\n",
              "     See: https://github.com/scikit-learn/scikit-learn/issues/21755 */\n",
              "  display: inline-block !important;\n",
              "  position: relative;\n",
              "}\n",
              "\n",
              "#sk-container-id-1 div.sk-text-repr-fallback {\n",
              "  display: none;\n",
              "}\n",
              "\n",
              "div.sk-parallel-item,\n",
              "div.sk-serial,\n",
              "div.sk-item {\n",
              "  /* draw centered vertical line to link estimators */\n",
              "  background-image: linear-gradient(var(--sklearn-color-text-on-default-background), var(--sklearn-color-text-on-default-background));\n",
              "  background-size: 2px 100%;\n",
              "  background-repeat: no-repeat;\n",
              "  background-position: center center;\n",
              "}\n",
              "\n",
              "/* Parallel-specific style estimator block */\n",
              "\n",
              "#sk-container-id-1 div.sk-parallel-item::after {\n",
              "  content: \"\";\n",
              "  width: 100%;\n",
              "  border-bottom: 2px solid var(--sklearn-color-text-on-default-background);\n",
              "  flex-grow: 1;\n",
              "}\n",
              "\n",
              "#sk-container-id-1 div.sk-parallel {\n",
              "  display: flex;\n",
              "  align-items: stretch;\n",
              "  justify-content: center;\n",
              "  background-color: var(--sklearn-color-background);\n",
              "  position: relative;\n",
              "}\n",
              "\n",
              "#sk-container-id-1 div.sk-parallel-item {\n",
              "  display: flex;\n",
              "  flex-direction: column;\n",
              "}\n",
              "\n",
              "#sk-container-id-1 div.sk-parallel-item:first-child::after {\n",
              "  align-self: flex-end;\n",
              "  width: 50%;\n",
              "}\n",
              "\n",
              "#sk-container-id-1 div.sk-parallel-item:last-child::after {\n",
              "  align-self: flex-start;\n",
              "  width: 50%;\n",
              "}\n",
              "\n",
              "#sk-container-id-1 div.sk-parallel-item:only-child::after {\n",
              "  width: 0;\n",
              "}\n",
              "\n",
              "/* Serial-specific style estimator block */\n",
              "\n",
              "#sk-container-id-1 div.sk-serial {\n",
              "  display: flex;\n",
              "  flex-direction: column;\n",
              "  align-items: center;\n",
              "  background-color: var(--sklearn-color-background);\n",
              "  padding-right: 1em;\n",
              "  padding-left: 1em;\n",
              "}\n",
              "\n",
              "\n",
              "/* Toggleable style: style used for estimator/Pipeline/ColumnTransformer box that is\n",
              "clickable and can be expanded/collapsed.\n",
              "- Pipeline and ColumnTransformer use this feature and define the default style\n",
              "- Estimators will overwrite some part of the style using the `sk-estimator` class\n",
              "*/\n",
              "\n",
              "/* Pipeline and ColumnTransformer style (default) */\n",
              "\n",
              "#sk-container-id-1 div.sk-toggleable {\n",
              "  /* Default theme specific background. It is overwritten whether we have a\n",
              "  specific estimator or a Pipeline/ColumnTransformer */\n",
              "  background-color: var(--sklearn-color-background);\n",
              "}\n",
              "\n",
              "/* Toggleable label */\n",
              "#sk-container-id-1 label.sk-toggleable__label {\n",
              "  cursor: pointer;\n",
              "  display: flex;\n",
              "  width: 100%;\n",
              "  margin-bottom: 0;\n",
              "  padding: 0.5em;\n",
              "  box-sizing: border-box;\n",
              "  text-align: center;\n",
              "  align-items: start;\n",
              "  justify-content: space-between;\n",
              "  gap: 0.5em;\n",
              "}\n",
              "\n",
              "#sk-container-id-1 label.sk-toggleable__label .caption {\n",
              "  font-size: 0.6rem;\n",
              "  font-weight: lighter;\n",
              "  color: var(--sklearn-color-text-muted);\n",
              "}\n",
              "\n",
              "#sk-container-id-1 label.sk-toggleable__label-arrow:before {\n",
              "  /* Arrow on the left of the label */\n",
              "  content: \"▸\";\n",
              "  float: left;\n",
              "  margin-right: 0.25em;\n",
              "  color: var(--sklearn-color-icon);\n",
              "}\n",
              "\n",
              "#sk-container-id-1 label.sk-toggleable__label-arrow:hover:before {\n",
              "  color: var(--sklearn-color-text);\n",
              "}\n",
              "\n",
              "/* Toggleable content - dropdown */\n",
              "\n",
              "#sk-container-id-1 div.sk-toggleable__content {\n",
              "  max-height: 0;\n",
              "  max-width: 0;\n",
              "  overflow: hidden;\n",
              "  text-align: left;\n",
              "  /* unfitted */\n",
              "  background-color: var(--sklearn-color-unfitted-level-0);\n",
              "}\n",
              "\n",
              "#sk-container-id-1 div.sk-toggleable__content.fitted {\n",
              "  /* fitted */\n",
              "  background-color: var(--sklearn-color-fitted-level-0);\n",
              "}\n",
              "\n",
              "#sk-container-id-1 div.sk-toggleable__content pre {\n",
              "  margin: 0.2em;\n",
              "  border-radius: 0.25em;\n",
              "  color: var(--sklearn-color-text);\n",
              "  /* unfitted */\n",
              "  background-color: var(--sklearn-color-unfitted-level-0);\n",
              "}\n",
              "\n",
              "#sk-container-id-1 div.sk-toggleable__content.fitted pre {\n",
              "  /* unfitted */\n",
              "  background-color: var(--sklearn-color-fitted-level-0);\n",
              "}\n",
              "\n",
              "#sk-container-id-1 input.sk-toggleable__control:checked~div.sk-toggleable__content {\n",
              "  /* Expand drop-down */\n",
              "  max-height: 200px;\n",
              "  max-width: 100%;\n",
              "  overflow: auto;\n",
              "}\n",
              "\n",
              "#sk-container-id-1 input.sk-toggleable__control:checked~label.sk-toggleable__label-arrow:before {\n",
              "  content: \"▾\";\n",
              "}\n",
              "\n",
              "/* Pipeline/ColumnTransformer-specific style */\n",
              "\n",
              "#sk-container-id-1 div.sk-label input.sk-toggleable__control:checked~label.sk-toggleable__label {\n",
              "  color: var(--sklearn-color-text);\n",
              "  background-color: var(--sklearn-color-unfitted-level-2);\n",
              "}\n",
              "\n",
              "#sk-container-id-1 div.sk-label.fitted input.sk-toggleable__control:checked~label.sk-toggleable__label {\n",
              "  background-color: var(--sklearn-color-fitted-level-2);\n",
              "}\n",
              "\n",
              "/* Estimator-specific style */\n",
              "\n",
              "/* Colorize estimator box */\n",
              "#sk-container-id-1 div.sk-estimator input.sk-toggleable__control:checked~label.sk-toggleable__label {\n",
              "  /* unfitted */\n",
              "  background-color: var(--sklearn-color-unfitted-level-2);\n",
              "}\n",
              "\n",
              "#sk-container-id-1 div.sk-estimator.fitted input.sk-toggleable__control:checked~label.sk-toggleable__label {\n",
              "  /* fitted */\n",
              "  background-color: var(--sklearn-color-fitted-level-2);\n",
              "}\n",
              "\n",
              "#sk-container-id-1 div.sk-label label.sk-toggleable__label,\n",
              "#sk-container-id-1 div.sk-label label {\n",
              "  /* The background is the default theme color */\n",
              "  color: var(--sklearn-color-text-on-default-background);\n",
              "}\n",
              "\n",
              "/* On hover, darken the color of the background */\n",
              "#sk-container-id-1 div.sk-label:hover label.sk-toggleable__label {\n",
              "  color: var(--sklearn-color-text);\n",
              "  background-color: var(--sklearn-color-unfitted-level-2);\n",
              "}\n",
              "\n",
              "/* Label box, darken color on hover, fitted */\n",
              "#sk-container-id-1 div.sk-label.fitted:hover label.sk-toggleable__label.fitted {\n",
              "  color: var(--sklearn-color-text);\n",
              "  background-color: var(--sklearn-color-fitted-level-2);\n",
              "}\n",
              "\n",
              "/* Estimator label */\n",
              "\n",
              "#sk-container-id-1 div.sk-label label {\n",
              "  font-family: monospace;\n",
              "  font-weight: bold;\n",
              "  display: inline-block;\n",
              "  line-height: 1.2em;\n",
              "}\n",
              "\n",
              "#sk-container-id-1 div.sk-label-container {\n",
              "  text-align: center;\n",
              "}\n",
              "\n",
              "/* Estimator-specific */\n",
              "#sk-container-id-1 div.sk-estimator {\n",
              "  font-family: monospace;\n",
              "  border: 1px dotted var(--sklearn-color-border-box);\n",
              "  border-radius: 0.25em;\n",
              "  box-sizing: border-box;\n",
              "  margin-bottom: 0.5em;\n",
              "  /* unfitted */\n",
              "  background-color: var(--sklearn-color-unfitted-level-0);\n",
              "}\n",
              "\n",
              "#sk-container-id-1 div.sk-estimator.fitted {\n",
              "  /* fitted */\n",
              "  background-color: var(--sklearn-color-fitted-level-0);\n",
              "}\n",
              "\n",
              "/* on hover */\n",
              "#sk-container-id-1 div.sk-estimator:hover {\n",
              "  /* unfitted */\n",
              "  background-color: var(--sklearn-color-unfitted-level-2);\n",
              "}\n",
              "\n",
              "#sk-container-id-1 div.sk-estimator.fitted:hover {\n",
              "  /* fitted */\n",
              "  background-color: var(--sklearn-color-fitted-level-2);\n",
              "}\n",
              "\n",
              "/* Specification for estimator info (e.g. \"i\" and \"?\") */\n",
              "\n",
              "/* Common style for \"i\" and \"?\" */\n",
              "\n",
              ".sk-estimator-doc-link,\n",
              "a:link.sk-estimator-doc-link,\n",
              "a:visited.sk-estimator-doc-link {\n",
              "  float: right;\n",
              "  font-size: smaller;\n",
              "  line-height: 1em;\n",
              "  font-family: monospace;\n",
              "  background-color: var(--sklearn-color-background);\n",
              "  border-radius: 1em;\n",
              "  height: 1em;\n",
              "  width: 1em;\n",
              "  text-decoration: none !important;\n",
              "  margin-left: 0.5em;\n",
              "  text-align: center;\n",
              "  /* unfitted */\n",
              "  border: var(--sklearn-color-unfitted-level-1) 1pt solid;\n",
              "  color: var(--sklearn-color-unfitted-level-1);\n",
              "}\n",
              "\n",
              ".sk-estimator-doc-link.fitted,\n",
              "a:link.sk-estimator-doc-link.fitted,\n",
              "a:visited.sk-estimator-doc-link.fitted {\n",
              "  /* fitted */\n",
              "  border: var(--sklearn-color-fitted-level-1) 1pt solid;\n",
              "  color: var(--sklearn-color-fitted-level-1);\n",
              "}\n",
              "\n",
              "/* On hover */\n",
              "div.sk-estimator:hover .sk-estimator-doc-link:hover,\n",
              ".sk-estimator-doc-link:hover,\n",
              "div.sk-label-container:hover .sk-estimator-doc-link:hover,\n",
              ".sk-estimator-doc-link:hover {\n",
              "  /* unfitted */\n",
              "  background-color: var(--sklearn-color-unfitted-level-3);\n",
              "  color: var(--sklearn-color-background);\n",
              "  text-decoration: none;\n",
              "}\n",
              "\n",
              "div.sk-estimator.fitted:hover .sk-estimator-doc-link.fitted:hover,\n",
              ".sk-estimator-doc-link.fitted:hover,\n",
              "div.sk-label-container:hover .sk-estimator-doc-link.fitted:hover,\n",
              ".sk-estimator-doc-link.fitted:hover {\n",
              "  /* fitted */\n",
              "  background-color: var(--sklearn-color-fitted-level-3);\n",
              "  color: var(--sklearn-color-background);\n",
              "  text-decoration: none;\n",
              "}\n",
              "\n",
              "/* Span, style for the box shown on hovering the info icon */\n",
              ".sk-estimator-doc-link span {\n",
              "  display: none;\n",
              "  z-index: 9999;\n",
              "  position: relative;\n",
              "  font-weight: normal;\n",
              "  right: .2ex;\n",
              "  padding: .5ex;\n",
              "  margin: .5ex;\n",
              "  width: min-content;\n",
              "  min-width: 20ex;\n",
              "  max-width: 50ex;\n",
              "  color: var(--sklearn-color-text);\n",
              "  box-shadow: 2pt 2pt 4pt #999;\n",
              "  /* unfitted */\n",
              "  background: var(--sklearn-color-unfitted-level-0);\n",
              "  border: .5pt solid var(--sklearn-color-unfitted-level-3);\n",
              "}\n",
              "\n",
              ".sk-estimator-doc-link.fitted span {\n",
              "  /* fitted */\n",
              "  background: var(--sklearn-color-fitted-level-0);\n",
              "  border: var(--sklearn-color-fitted-level-3);\n",
              "}\n",
              "\n",
              ".sk-estimator-doc-link:hover span {\n",
              "  display: block;\n",
              "}\n",
              "\n",
              "/* \"?\"-specific style due to the `<a>` HTML tag */\n",
              "\n",
              "#sk-container-id-1 a.estimator_doc_link {\n",
              "  float: right;\n",
              "  font-size: 1rem;\n",
              "  line-height: 1em;\n",
              "  font-family: monospace;\n",
              "  background-color: var(--sklearn-color-background);\n",
              "  border-radius: 1rem;\n",
              "  height: 1rem;\n",
              "  width: 1rem;\n",
              "  text-decoration: none;\n",
              "  /* unfitted */\n",
              "  color: var(--sklearn-color-unfitted-level-1);\n",
              "  border: var(--sklearn-color-unfitted-level-1) 1pt solid;\n",
              "}\n",
              "\n",
              "#sk-container-id-1 a.estimator_doc_link.fitted {\n",
              "  /* fitted */\n",
              "  border: var(--sklearn-color-fitted-level-1) 1pt solid;\n",
              "  color: var(--sklearn-color-fitted-level-1);\n",
              "}\n",
              "\n",
              "/* On hover */\n",
              "#sk-container-id-1 a.estimator_doc_link:hover {\n",
              "  /* unfitted */\n",
              "  background-color: var(--sklearn-color-unfitted-level-3);\n",
              "  color: var(--sklearn-color-background);\n",
              "  text-decoration: none;\n",
              "}\n",
              "\n",
              "#sk-container-id-1 a.estimator_doc_link.fitted:hover {\n",
              "  /* fitted */\n",
              "  background-color: var(--sklearn-color-fitted-level-3);\n",
              "}\n",
              "</style><div id=\"sk-container-id-1\" class=\"sk-top-container\"><div class=\"sk-text-repr-fallback\"><pre>XGBRegressor(base_score=None, booster=None, callbacks=None,\n",
              "             colsample_bylevel=None, colsample_bynode=None,\n",
              "             colsample_bytree=0.8, device=None, early_stopping_rounds=None,\n",
              "             enable_categorical=False, eval_metric=None, feature_types=None,\n",
              "             gamma=None, grow_policy=None, importance_type=None,\n",
              "             interaction_constraints=None, learning_rate=0.1, max_bin=None,\n",
              "             max_cat_threshold=None, max_cat_to_onehot=None,\n",
              "             max_delta_step=None, max_depth=6, max_leaves=None,\n",
              "             min_child_weight=None, missing=nan, monotone_constraints=None,\n",
              "             multi_strategy=None, n_estimators=100, n_jobs=None,\n",
              "             num_parallel_tree=None, random_state=42, ...)</pre><b>In a Jupyter environment, please rerun this cell to show the HTML representation or trust the notebook. <br />On GitHub, the HTML representation is unable to render, please try loading this page with nbviewer.org.</b></div><div class=\"sk-container\" hidden><div class=\"sk-item\"><div class=\"sk-estimator fitted sk-toggleable\"><input class=\"sk-toggleable__control sk-hidden--visually\" id=\"sk-estimator-id-1\" type=\"checkbox\" checked><label for=\"sk-estimator-id-1\" class=\"sk-toggleable__label fitted sk-toggleable__label-arrow\"><div><div>XGBRegressor</div></div><div><span class=\"sk-estimator-doc-link fitted\">i<span>Fitted</span></span></div></label><div class=\"sk-toggleable__content fitted\"><pre>XGBRegressor(base_score=None, booster=None, callbacks=None,\n",
              "             colsample_bylevel=None, colsample_bynode=None,\n",
              "             colsample_bytree=0.8, device=None, early_stopping_rounds=None,\n",
              "             enable_categorical=False, eval_metric=None, feature_types=None,\n",
              "             gamma=None, grow_policy=None, importance_type=None,\n",
              "             interaction_constraints=None, learning_rate=0.1, max_bin=None,\n",
              "             max_cat_threshold=None, max_cat_to_onehot=None,\n",
              "             max_delta_step=None, max_depth=6, max_leaves=None,\n",
              "             min_child_weight=None, missing=nan, monotone_constraints=None,\n",
              "             multi_strategy=None, n_estimators=100, n_jobs=None,\n",
              "             num_parallel_tree=None, random_state=42, ...)</pre></div> </div></div></div></div>"
            ]
          },
          "metadata": {},
          "execution_count": 13
        }
      ]
    },
    {
      "cell_type": "code",
      "source": [
        "model_features = X_train.columns.tolist()"
      ],
      "metadata": {
        "id": "dFPUR_NyEmyM"
      },
      "execution_count": 14,
      "outputs": []
    },
    {
      "cell_type": "code",
      "source": [
        "from sklearn.metrics import mean_absolute_error, mean_squared_error\n",
        "import numpy as np\n",
        "\n",
        "def smape(y_true, y_pred):\n",
        "    denominator = (np.abs(y_true) + np.abs(y_pred)) / 2\n",
        "    diff = np.abs(y_true - y_pred)\n",
        "    return 100 * np.mean(np.where(denominator == 0, 0, diff / denominator))\n",
        "\n",
        "def mase(y_true, y_pred):\n",
        "    mae_model = np.mean(np.abs(y_true - y_pred))\n",
        "    mae_naive = np.mean(np.abs(y_true[1:] - y_true[:-1]))  # naïve = previous value\n",
        "    return mae_model / mae_naive if mae_naive != 0 else np.nan\n",
        "\n",
        "def extended_evaluate_model(model, X, y, label='Set'):\n",
        "    y_pred = model.predict(X)\n",
        "\n",
        "    mae = mean_absolute_error(y, y_pred)\n",
        "    rmse = np.sqrt(mean_squared_error(y, y_pred))\n",
        "    mape = np.mean(np.abs((y - y_pred) / np.where(y == 0, 1, y))) * 100\n",
        "    smape_val = smape(y, y_pred)\n",
        "    mase_val = mase(y, y_pred)\n",
        "\n",
        "    print(f'📊 Evaluation on {label}')\n",
        "    print(f'MAE:    {mae:.2f}')\n",
        "    print(f'RMSE:   {rmse:.2f}')\n",
        "    print(f'MAPE:   {mape:.2f}%')\n",
        "    print(f'SMAPE:  {smape_val:.2f}%')\n",
        "    print(f'MASE:   {mase_val:.4f}')\n",
        "\n",
        "    return mae, rmse, mape, smape_val, mase_val"
      ],
      "metadata": {
        "id": "NE6iIOY80MZ3"
      },
      "execution_count": 15,
      "outputs": []
    },
    {
      "cell_type": "code",
      "source": [
        "extended_evaluate_model(model, X_train, y_train, 'Train')\n",
        "extended_evaluate_model(model, X_val, y_val, 'Validation')\n",
        "extended_evaluate_model(model, X_test, y_test, 'Test')"
      ],
      "metadata": {
        "colab": {
          "base_uri": "https://localhost:8080/"
        },
        "id": "acNabEf80k4z",
        "outputId": "69cfa6cd-697a-42ba-f3d2-d361caf7cc16"
      },
      "execution_count": 16,
      "outputs": [
        {
          "output_type": "stream",
          "name": "stdout",
          "text": [
            "📊 Evaluation on Train\n",
            "MAE:    0.29\n",
            "RMSE:   0.54\n",
            "MAPE:   20.53%\n",
            "SMAPE:  19.84%\n",
            "MASE:   nan\n",
            "📊 Evaluation on Validation\n",
            "MAE:    0.29\n",
            "RMSE:   0.61\n",
            "MAPE:   20.83%\n",
            "SMAPE:  20.06%\n",
            "MASE:   nan\n",
            "📊 Evaluation on Test\n",
            "MAE:    0.30\n",
            "RMSE:   0.68\n",
            "MAPE:   20.96%\n",
            "SMAPE:  20.22%\n",
            "MASE:   nan\n"
          ]
        },
        {
          "output_type": "execute_result",
          "data": {
            "text/plain": [
              "(0.299278199672699,\n",
              " np.float64(0.6751622578963417),\n",
              " np.float64(20.961899614493447),\n",
              " np.float64(20.21700826629921),\n",
              " nan)"
            ]
          },
          "metadata": {},
          "execution_count": 16
        }
      ]
    },
    {
      "cell_type": "code",
      "source": [
        "quantity_min = df['כמות'].min()\n",
        "quantity_max = df['כמות'].max()\n",
        "quantity_mean = df['כמות'].mean()\n",
        "quantity_std = df['כמות'].std()\n",
        "\n",
        "quantity_min, quantity_max, quantity_mean, quantity_std"
      ],
      "metadata": {
        "colab": {
          "base_uri": "https://localhost:8080/"
        },
        "id": "v5kVtrk724Oc",
        "outputId": "833b2c3f-2094-4bb1-a8c3-cf05dd6a5d47"
      },
      "execution_count": 17,
      "outputs": [
        {
          "output_type": "execute_result",
          "data": {
            "text/plain": [
              "(0, 80, np.float64(1.2283138812797245), 0.6513769783149825)"
            ]
          },
          "metadata": {},
          "execution_count": 17
        }
      ]
    },
    {
      "cell_type": "code",
      "source": [
        "xgb.plot_importance(model, max_num_features=15)\n",
        "plt.show()"
      ],
      "metadata": {
        "colab": {
          "base_uri": "https://localhost:8080/",
          "height": 472
        },
        "id": "tQCCV5apF019",
        "outputId": "ca570b1d-bfdb-489b-deaa-ff51ee56be99"
      },
      "execution_count": 18,
      "outputs": [
        {
          "output_type": "display_data",
          "data": {
            "text/plain": [
              "<Figure size 640x480 with 1 Axes>"
            ],
            "image/png": "[encoded data removed]"
          },
          "metadata": {}
        }
      ]
    },
    {
      "cell_type": "code",
      "source": [
        "def build_future_features(forecast_date: str, full_df, desc_map_df, model_features):\n",
        "    date = pd.to_datetime(forecast_date)\n",
        "    day = date.day\n",
        "    month = date.month\n",
        "    year = date.year\n",
        "    week = date.isocalendar().week\n",
        "    day_name = ((date.dayofweek + 1) % 7) + 1\n",
        "    is_weekend = int(day_name in [6, 7])\n",
        "\n",
        "    il_holidays = country_holidays('IL')\n",
        "    christian_holidays = country_holidays('US')\n",
        "    is_jewish_holiday = date in il_holidays\n",
        "    is_christian_holiday = date in christian_holidays\n",
        "    is_near_jewish_holiday = ((date + pd.Timedelta(days=1) in il_holidays) or\n",
        "                              (date - pd.Timedelta(days=1) in il_holidays))\n",
        "    is_day_before_new_year = int(month == 12 and day == 31)\n",
        "    is_start_of_month = int(day <= 3)\n",
        "    is_end_of_month = int(day >= 28)\n",
        "    season = (month % 12) // 3 + 1\n",
        "\n",
        "    day_name_sin = np.sin(2 * np.pi * day_name / 7)\n",
        "    day_name_cos = np.cos(2 * np.pi * day_name / 7)\n",
        "    month_sin = np.sin(2 * np.pi * month / 12)\n",
        "    month_cos = np.cos(2 * np.pi * month / 12)\n",
        "\n",
        "    categories = full_df['clean_desc_encoded'].unique()\n",
        "    avg_quantity = full_df.groupby('clean_desc_encoded')['כמות'].mean()\n",
        "    std_quantity = full_df.groupby('clean_desc_encoded')['כמות'].std()\n",
        "    days_sold = full_df.groupby('clean_desc_encoded')['Date'].nunique()\n",
        "    max_days = days_sold.max()\n",
        "\n",
        "    portion_map = desc_map_df.set_index('code')['portion_type'].to_dict() if 'portion_type' in desc_map_df.columns else {}\n",
        "\n",
        "    rows = []\n",
        "    for cat in categories:\n",
        "        recent_avg = full_df[\n",
        "            (full_df['clean_desc_encoded'] == cat) &\n",
        "            (pd.to_datetime(full_df['Date']) < date)\n",
        "        ].sort_values('Date').tail(30)['כמות'].mean()\n",
        "\n",
        "        row = {\n",
        "            'clean_desc_encoded': cat,\n",
        "            'Year': year, 'Month': month, 'Day': day, 'WeekOfYear': week,\n",
        "            'Day_Name': day_name, 'Is_Weekend': is_weekend,\n",
        "            'is_jewish_holiday': is_jewish_holiday,\n",
        "            'is_christian_holiday': is_christian_holiday,\n",
        "            'is_near_jewish_holiday': is_near_jewish_holiday,\n",
        "            'is_day_before_new_year': is_day_before_new_year,\n",
        "            'is_start_of_month': is_start_of_month,\n",
        "            'is_end_of_month': is_end_of_month,\n",
        "            'Season': season,\n",
        "            'Day_Name_sin': day_name_sin, 'Day_Name_cos': day_name_cos,\n",
        "            'Month_sin': month_sin, 'Month_cos': month_cos,\n",
        "            'recent_avg_quantity': recent_avg if not np.isnan(recent_avg) else 0,\n",
        "            'avg_quantity_all_time': avg_quantity.get(cat, 0),\n",
        "            'std_quantity_all_time': std_quantity.get(cat, 0),\n",
        "            'num_days_sold': days_sold.get(cat, 0),\n",
        "            'popularity_score': days_sold.get(cat, 0) / max_days if max_days > 0 else 0,\n",
        "            'portion_type': portion_map.get(cat, 'unknown')\n",
        "        }\n",
        "\n",
        "        for col in model_features:\n",
        "            if col not in row:\n",
        "                row[col] = 0\n",
        "\n",
        "        rows.append(row)\n",
        "\n",
        "    future_df = pd.DataFrame(rows)\n",
        "    desc_map_dict = desc_map_df.set_index('code')['Unnamed: 0'].to_dict()\n",
        "    future_df['category_name'] = future_df['clean_desc_encoded'].map(desc_map_dict)\n",
        "\n",
        "    return future_df"
      ],
      "metadata": {
        "id": "0xDednOrCSRv"
      },
      "execution_count": 19,
      "outputs": []
    },
    {
      "cell_type": "code",
      "source": [
        "def predict_sales_by_date(forecast_date: str, model, full_df, model_features, desc_map_df):\n",
        "    future_df = build_future_features(\n",
        "        forecast_date=forecast_date,\n",
        "        full_df=full_df,\n",
        "        desc_map_df=desc_map_df,\n",
        "        model_features=model_features\n",
        "    )\n",
        "\n",
        "    # קידוד portion_type אם נדרש\n",
        "    if 'portion_type' in future_df.columns and future_df['portion_type'].dtype == 'object':\n",
        "        le = LabelEncoder()\n",
        "        future_df['portion_type'] = le.fit_transform(future_df['portion_type'])\n",
        "\n",
        "    future_df['predicted_quantity'] = np.ceil(model.predict(future_df[model_features])).astype(int)\n",
        "\n",
        "    return future_df[['category_name', 'predicted_quantity']].sort_values(by='predicted_quantity', ascending=False)"
      ],
      "metadata": {
        "id": "6lFBUg6gXXzK"
      },
      "execution_count": 20,
      "outputs": []
    },
    {
      "cell_type": "code",
      "source": [
        "forecast_df = predict_sales_by_date(\n",
        "    forecast_date='2025-01-03',\n",
        "    model=model,\n",
        "    full_df=cleaned_data,\n",
        "    model_features=model_features,\n",
        "    desc_map_df=desc_encoding_map)\n",
        "\n",
        "forecast_df.head()"
      ],
      "metadata": {
        "colab": {
          "base_uri": "https://localhost:8080/",
          "height": 206
        },
        "id": "0sXmpqlga7cP",
        "outputId": "be080305-38b7-4342-da86-406bbfcdf335"
      },
      "execution_count": 21,
      "outputs": [
        {
          "output_type": "execute_result",
          "data": {
            "text/plain": [
              "        category_name  predicted_quantity\n",
              "235  אצבעות גבינה פסח                   4\n",
              "18           2 תוספות                   3\n",
              "11      פפרוני טבעוני                   3\n",
              "17         2 פיצות 14                   3\n",
              "88            2תוספות                   3"
            ],
            "text/html": [
              "\n",
              "  <div id=\"df-855a91c2-cfc2-4df4-aa82-909fce96d1cb\" class=\"colab-df-container\">\n",
              "    <div>\n",
              "<style scoped>\n",
              "    .dataframe tbody tr th:only-of-type {\n",
              "        vertical-align: middle;\n",
              "    }\n",
              "\n",
              "    .dataframe tbody tr th {\n",
              "        vertical-align: top;\n",
              "    }\n",
              "\n",
              "    .dataframe thead th {\n",
              "        text-align: right;\n",
              "    }\n",
              "</style>\n",
              "<table border=\"1\" class=\"dataframe\">\n",
              "  <thead>\n",
              "    <tr style=\"text-align: right;\">\n",
              "      <th></th>\n",
              "      <th>category_name</th>\n",
              "      <th>predicted_quantity</th>\n",
              "    </tr>\n",
              "  </thead>\n",
              "  <tbody>\n",
              "    <tr>\n",
              "      <th>235</th>\n",
              "      <td>אצבעות גבינה פסח</td>\n",
              "      <td>4</td>\n",
              "    </tr>\n",
              "    <tr>\n",
              "      <th>18</th>\n",
              "      <td>2 תוספות</td>\n",
              "      <td>3</td>\n",
              "    </tr>\n",
              "    <tr>\n",
              "      <th>11</th>\n",
              "      <td>פפרוני טבעוני</td>\n",
              "      <td>3</td>\n",
              "    </tr>\n",
              "    <tr>\n",
              "      <th>17</th>\n",
              "      <td>2 פיצות 14</td>\n",
              "      <td>3</td>\n",
              "    </tr>\n",
              "    <tr>\n",
              "      <th>88</th>\n",
              "      <td>2תוספות</td>\n",
              "      <td>3</td>\n",
              "    </tr>\n",
              "  </tbody>\n",
              "</table>\n",
              "</div>\n",
              "    <div class=\"colab-df-buttons\">\n",
              "\n",
              "  <div class=\"colab-df-container\">\n",
              "    <button class=\"colab-df-convert\" onclick=\"convertToInteractive('df-855a91c2-cfc2-4df4-aa82-909fce96d1cb')\"\n",
              "            title=\"Convert this dataframe to an interactive table.\"\n",
              "            style=\"display:none;\">\n",
              "\n",
              "  <svg xmlns=\"http://www.w3.org/2000/svg\" height=\"24px\" viewBox=\"0 -960 960 960\">\n",
              "    <path d=\"M120-120v-720h720v720H120Zm60-500h600v-160H180v160Zm220 220h160v-160H400v160Zm0 220h160v-160H400v160ZM180-400h160v-160H180v160Zm440 0h160v-160H620v160ZM180-180h160v-160H180v160Zm440 0h160v-160H620v160Z\"/>\n",
              "  </svg>\n",
              "    </button>\n",
              "\n",
              "  <style>\n",
              "    .colab-df-container {\n",
              "      display:flex;\n",
              "      gap: 12px;\n",
              "    }\n",
              "\n",
              "    .colab-df-convert {\n",
              "      background-color: #E8F0FE;\n",
              "      border: none;\n",
              "      border-radius: 50%;\n",
              "      cursor: pointer;\n",
              "      display: none;\n",
              "      fill: #1967D2;\n",
              "      height: 32px;\n",
              "      padding: 0 0 0 0;\n",
              "      width: 32px;\n",
              "    }\n",
              "\n",
              "    .colab-df-convert:hover {\n",
              "      background-color: #E2EBFA;\n",
              "      box-shadow: 0px 1px 2px rgba(60, 64, 67, 0.3), 0px 1px 3px 1px rgba(60, 64, 67, 0.15);\n",
              "      fill: #174EA6;\n",
              "    }\n",
              "\n",
              "    .colab-df-buttons div {\n",
              "      margin-bottom: 4px;\n",
              "    }\n",
              "\n",
              "    [theme=dark] .colab-df-convert {\n",
              "      background-color: #3B4455;\n",
              "      fill: #D2E3FC;\n",
              "    }\n",
              "\n",
              "    [theme=dark] .colab-df-convert:hover {\n",
              "      background-color: #434B5C;\n",
              "      box-shadow: 0px 1px 3px 1px rgba(0, 0, 0, 0.15);\n",
              "      filter: drop-shadow(0px 1px 2px rgba(0, 0, 0, 0.3));\n",
              "      fill: #FFFFFF;\n",
              "    }\n",
              "  </style>\n",
              "\n",
              "    <script>\n",
              "      const buttonEl =\n",
              "        document.querySelector('#df-855a91c2-cfc2-4df4-aa82-909fce96d1cb button.colab-df-convert');\n",
              "      buttonEl.style.display =\n",
              "        google.colab.kernel.accessAllowed ? 'block' : 'none';\n",
              "\n",
              "      async function convertToInteractive(key) {\n",
              "        const element = document.querySelector('#df-855a91c2-cfc2-4df4-aa82-909fce96d1cb');\n",
              "        const dataTable =\n",
              "          await google.colab.kernel.invokeFunction('convertToInteractive',\n",
              "                                                    [key], {});\n",
              "        if (!dataTable) return;\n",
              "\n",
              "        const docLinkHtml = 'Like what you see? Visit the ' +\n",
              "          '<a target=\"_blank\" href=https://colab.research.google.com/notebooks/data_table.ipynb>data table notebook</a>'\n",
              "          + ' to learn more about interactive tables.';\n",
              "        element.innerHTML = '';\n",
              "        dataTable['output_type'] = 'display_data';\n",
              "        await google.colab.output.renderOutput(dataTable, element);\n",
              "        const docLink = document.createElement('div');\n",
              "        docLink.innerHTML = docLinkHtml;\n",
              "        element.appendChild(docLink);\n",
              "      }\n",
              "    </script>\n",
              "  </div>\n",
              "\n",
              "\n",
              "<div id=\"df-1abb80c4-1c0b-417e-90cd-401b43b7caca\">\n",
              "  <button class=\"colab-df-quickchart\" onclick=\"quickchart('df-1abb80c4-1c0b-417e-90cd-401b43b7caca')\"\n",
              "            title=\"Suggest charts\"\n",
              "            style=\"display:none;\">\n",
              "\n",
              "<svg xmlns=\"http://www.w3.org/2000/svg\" height=\"24px\"viewBox=\"0 0 24 24\"\n",
              "     width=\"24px\">\n",
              "    <g>\n",
              "        <path d=\"M19 3H5c-1.1 0-2 .9-2 2v14c0 1.1.9 2 2 2h14c1.1 0 2-.9 2-2V5c0-1.1-.9-2-2-2zM9 17H7v-7h2v7zm4 0h-2V7h2v10zm4 0h-2v-4h2v4z\"/>\n",
              "    </g>\n",
              "</svg>\n",
              "  </button>\n",
              "\n",
              "<style>\n",
              "  .colab-df-quickchart {\n",
              "      --bg-color: #E8F0FE;\n",
              "      --fill-color: #1967D2;\n",
              "      --hover-bg-color: #E2EBFA;\n",
              "      --hover-fill-color: #174EA6;\n",
              "      --disabled-fill-color: #AAA;\n",
              "      --disabled-bg-color: #DDD;\n",
              "  }\n",
              "\n",
              "  [theme=dark] .colab-df-quickchart {\n",
              "      --bg-color: #3B4455;\n",
              "      --fill-color: #D2E3FC;\n",
              "      --hover-bg-color: #434B5C;\n",
              "      --hover-fill-color: #FFFFFF;\n",
              "      --disabled-bg-color: #3B4455;\n",
              "      --disabled-fill-color: #666;\n",
              "  }\n",
              "\n",
              "  .colab-df-quickchart {\n",
              "    background-color: var(--bg-color);\n",
              "    border: none;\n",
              "    border-radius: 50%;\n",
              "    cursor: pointer;\n",
              "    display: none;\n",
              "    fill: var(--fill-color);\n",
              "    height: 32px;\n",
              "    padding: 0;\n",
              "    width: 32px;\n",
              "  }\n",
              "\n",
              "  .colab-df-quickchart:hover {\n",
              "    background-color: var(--hover-bg-color);\n",
              "    box-shadow: 0 1px 2px rgba(60, 64, 67, 0.3), 0 1px 3px 1px rgba(60, 64, 67, 0.15);\n",
              "    fill: var(--button-hover-fill-color);\n",
              "  }\n",
              "\n",
              "  .colab-df-quickchart-complete:disabled,\n",
              "  .colab-df-quickchart-complete:disabled:hover {\n",
              "    background-color: var(--disabled-bg-color);\n",
              "    fill: var(--disabled-fill-color);\n",
              "    box-shadow: none;\n",
              "  }\n",
              "\n",
              "  .colab-df-spinner {\n",
              "    border: 2px solid var(--fill-color);\n",
              "    border-color: transparent;\n",
              "    border-bottom-color: var(--fill-color);\n",
              "    animation:\n",
              "      spin 1s steps(1) infinite;\n",
              "  }\n",
              "\n",
              "  @keyframes spin {\n",
              "    0% {\n",
              "      border-color: transparent;\n",
              "      border-bottom-color: var(--fill-color);\n",
              "      border-left-color: var(--fill-color);\n",
              "    }\n",
              "    20% {\n",
              "      border-color: transparent;\n",
              "      border-left-color: var(--fill-color);\n",
              "      border-top-color: var(--fill-color);\n",
              "    }\n",
              "    30% {\n",
              "      border-color: transparent;\n",
              "      border-left-color: var(--fill-color);\n",
              "      border-top-color: var(--fill-color);\n",
              "      border-right-color: var(--fill-color);\n",
              "    }\n",
              "    40% {\n",
              "      border-color: transparent;\n",
              "      border-right-color: var(--fill-color);\n",
              "      border-top-color: var(--fill-color);\n",
              "    }\n",
              "    60% {\n",
              "      border-color: transparent;\n",
              "      border-right-color: var(--fill-color);\n",
              "    }\n",
              "    80% {\n",
              "      border-color: transparent;\n",
              "      border-right-color: var(--fill-color);\n",
              "      border-bottom-color: var(--fill-color);\n",
              "    }\n",
              "    90% {\n",
              "      border-color: transparent;\n",
              "      border-bottom-color: var(--fill-color);\n",
              "    }\n",
              "  }\n",
              "</style>\n",
              "\n",
              "  <script>\n",
              "    async function quickchart(key) {\n",
              "      const quickchartButtonEl =\n",
              "        document.querySelector('#' + key + ' button');\n",
              "      quickchartButtonEl.disabled = true;  // To prevent multiple clicks.\n",
              "      quickchartButtonEl.classList.add('colab-df-spinner');\n",
              "      try {\n",
              "        const charts = await google.colab.kernel.invokeFunction(\n",
              "            'suggestCharts', [key], {});\n",
              "      } catch (error) {\n",
              "        console.error('Error during call to suggestCharts:', error);\n",
              "      }\n",
              "      quickchartButtonEl.classList.remove('colab-df-spinner');\n",
              "      quickchartButtonEl.classList.add('colab-df-quickchart-complete');\n",
              "    }\n",
              "    (() => {\n",
              "      let quickchartButtonEl =\n",
              "        document.querySelector('#df-1abb80c4-1c0b-417e-90cd-401b43b7caca button');\n",
              "      quickchartButtonEl.style.display =\n",
              "        google.colab.kernel.accessAllowed ? 'block' : 'none';\n",
              "    })();\n",
              "  </script>\n",
              "</div>\n",
              "\n",
              "    </div>\n",
              "  </div>\n"
            ],
            "application/vnd.google.colaboratory.intrinsic+json": {
              "type": "dataframe",
              "variable_name": "forecast_df",
              "summary": "{\n  \"name\": \"forecast_df\",\n  \"rows\": 244,\n  \"fields\": [\n    {\n      \"column\": \"category_name\",\n      \"properties\": {\n        \"dtype\": \"string\",\n        \"num_unique_values\": 244,\n        \"samples\": [\n          \"\\u05e4\\u05d7\\u05d9\\u05ea \\u05e7\\u05d5\\u05e7\\u05d4 \\u05e7\\u05d5\\u05dc\\u05d4\",\n          \"\\u05e4\\u05d9\\u05e6\\u05d4 \\u05de\\u05d9\\u05d5\\u05d7\\u05d3\\u05ea \\u05de\\u05de\\u05d4\\u05d3\\u05d5\\u05e8\\u05ea \\u05d7\\u05d5\\u05e8\\u05e3 \\u05e4\\u05d9\\u05e6\\u05d4 \\u05e7\\u05dc\\u05d0\\u05e1\\u05d9\\u05ea\",\n          \"\\u05d2\\u05dc\\u05d9\\u05d3\\u05d4 \\u05de\\u05e9\\u05e4\\u05d7\\u05ea\\u05d9\\u05ea\"\n        ],\n        \"semantic_type\": \"\",\n        \"description\": \"\"\n      }\n    },\n    {\n      \"column\": \"predicted_quantity\",\n      \"properties\": {\n        \"dtype\": \"number\",\n        \"std\": 0,\n        \"min\": 1,\n        \"max\": 4,\n        \"num_unique_values\": 4,\n        \"samples\": [\n          3,\n          1,\n          4\n        ],\n        \"semantic_type\": \"\",\n        \"description\": \"\"\n      }\n    }\n  ]\n}"
            }
          },
          "metadata": {},
          "execution_count": 21
        }
      ]
    },
    {
      "cell_type": "code",
      "source": [
        "def predict_sales_by_date_range(start_date, end_date, model, full_df, model_features, desc_map_df):\n",
        "    dates = pd.date_range(start=start_date, end=end_date)\n",
        "    all_rows = []\n",
        "\n",
        "    for single_date in dates:\n",
        "        daily = predict_sales_by_date(\n",
        "            forecast_date=single_date.strftime('%Y-%m-%d'),\n",
        "            model=model,\n",
        "            full_df=full_df,\n",
        "            model_features=model_features,\n",
        "            desc_map_df=desc_map_df\n",
        "        )\n",
        "        daily['Date'] = single_date\n",
        "        all_rows.append(daily)\n",
        "\n",
        "    return pd.concat(all_rows, ignore_index=True)"
      ],
      "metadata": {
        "id": "CxmPiGjDGCgT"
      },
      "execution_count": 22,
      "outputs": []
    },
    {
      "cell_type": "code",
      "source": [
        "xgb_forecast_range = predict_sales_by_date_range(\n",
        "    start_date='2025-01-01',\n",
        "    end_date='2025-01-07',\n",
        "    model=model,\n",
        "    full_df=cleaned_data,\n",
        "    model_features=model_features,\n",
        "    desc_map_df=desc_encoding_map)"
      ],
      "metadata": {
        "id": "7kX-LCgNGKyx"
      },
      "execution_count": null,
      "outputs": []
    },
    {
      "cell_type": "code",
      "source": [
        "xgb_forecast_range"
      ],
      "metadata": {
        "id": "9KJ2Km7hGaQA"
      },
      "execution_count": null,
      "outputs": []
    },
    {
      "cell_type": "code",
      "source": [
        "from statsmodels.tsa.statespace.sarimax import SARIMAX\n",
        "\n",
        "def predict_sales_with_sarima(forecast_date: str, model, full_df, model_features, desc_map_df):\n",
        "    future_df = build_future_features(\n",
        "        forecast_date=forecast_date,\n",
        "        full_df=full_df,\n",
        "        desc_map_df=desc_map_df,\n",
        "        model_features=model_features\n",
        "    )\n",
        "\n",
        "    if 'portion_type' in future_df.columns and future_df['portion_type'].dtype == 'object':\n",
        "        le = LabelEncoder()\n",
        "        future_df['portion_type'] = le.fit_transform(future_df['portion_type'])\n",
        "\n",
        "    categories = future_df['clean_desc_encoded'].unique()\n",
        "    future_df_model_input = future_df[model_features]\n",
        "    xgb_pred = model.predict(future_df_model_input)\n",
        "\n",
        "    sarima_correction = []\n",
        "    for cat in categories:\n",
        "        cat_df = full_df[full_df['clean_desc_encoded'] == cat].copy()\n",
        "        cat_df['Date'] = pd.to_datetime(cat_df['Date'])\n",
        "        cat_df = cat_df.sort_values('Date').set_index('Date')\n",
        "\n",
        "        try:\n",
        "            X_cat = cat_df[model_features]\n",
        "            y_cat = cat_df['כמות']\n",
        "            y_pred = model.predict(X_cat)\n",
        "            residuals = y_cat - y_pred\n",
        "        except:\n",
        "            sarima_correction.append(0)\n",
        "            continue\n",
        "\n",
        "        if len(residuals) < 30:\n",
        "            sarima_correction.append(0)\n",
        "            continue\n",
        "\n",
        "        try:\n",
        "            sarima = SARIMAX(residuals, order=(1,1,1), seasonal_order=(1,1,1,7))\n",
        "            sarima_fitted = sarima.fit(disp=False)\n",
        "            forecast = sarima_fitted.forecast(steps=1)[0]\n",
        "        except:\n",
        "            forecast = 0\n",
        "\n",
        "        sarima_correction.append(forecast)\n",
        "\n",
        "    future_df['predicted_quantity'] = np.ceil(xgb_pred + sarima_correction).astype(int)\n",
        "    future_df['Date'] = forecast_date\n",
        "\n",
        "    return future_df[['Date', 'category_name', 'predicted_quantity']].sort_values(by='predicted_quantity', ascending=False)"
      ],
      "metadata": {
        "id": "tRDHZMkbwRA0"
      },
      "execution_count": null,
      "outputs": []
    },
    {
      "cell_type": "code",
      "source": [
        "forecast = predict_sales_with_sarima(\n",
        "    forecast_date='2025-01-03',\n",
        "    model=model,\n",
        "    full_df=cleaned_data,\n",
        "    model_features=model_features,\n",
        "    desc_map_df=desc_encoding_map)"
      ],
      "metadata": {
        "id": "VWXROwKFwLxp"
      },
      "execution_count": null,
      "outputs": []
    },
    {
      "cell_type": "code",
      "source": [
        "forecast.head()"
      ],
      "metadata": {
        "id": "EuwOEHbvKph-"
      },
      "execution_count": null,
      "outputs": []
    },
    {
      "cell_type": "code",
      "source": [
        "def predict_sales_with_sarima_range(start_date: str, end_date: str, model, full_df, model_features, desc_map_df, verbose=False):\n",
        "    \"\"\"\n",
        "    מחזירה תחזית לכל יום בטווח תאריכים, לפי קטגוריה.\n",
        "    התחזית מבוססת על מודל XGBoost עם תיקון SARIMA לפי שאריות.\n",
        "    \"\"\"\n",
        "    date_range = pd.date_range(start=start_date, end=end_date)\n",
        "    all_forecasts = []\n",
        "\n",
        "    for single_date in date_range:\n",
        "        if verbose:\n",
        "            print(\"📅 Forecasting for:\", single_date.strftime('%Y-%m-%d'))\n",
        "\n",
        "        daily_forecast = predict_sales_with_sarima(\n",
        "            forecast_date=single_date.strftime('%Y-%m-%d'),\n",
        "            model=model,\n",
        "            full_df=full_df,\n",
        "            model_features=model_features,\n",
        "            desc_map_df=desc_map_df\n",
        "        )\n",
        "\n",
        "        all_forecasts.append(daily_forecast)\n",
        "\n",
        "    forecast_df = pd.concat(all_forecasts, ignore_index=True)\n",
        "\n",
        "    return forecast_df[['Date', 'category_name', 'predicted_quantity']]\\\n",
        "        .sort_values(by=['Date', 'predicted_quantity'], ascending=[True, False])"
      ],
      "metadata": {
        "id": "Ej8G7ZCdyNBe"
      },
      "execution_count": null,
      "outputs": []
    },
    {
      "cell_type": "code",
      "source": [
        "hybrid_forecast_range = predict_sales_with_sarima_range(\n",
        "    start_date='2025-01-01',\n",
        "    end_date='2025-01-07',\n",
        "    model=model,\n",
        "    full_df=cleaned_data,\n",
        "    model_features=model_features,\n",
        "    desc_map_df=desc_encoding_map)"
      ],
      "metadata": {
        "id": "ut1sRDe7yM-n"
      },
      "execution_count": null,
      "outputs": []
    },
    {
      "cell_type": "code",
      "source": [
        "hybrid_forecast_range"
      ],
      "metadata": {
        "id": "jrpK5hO_4r6Z"
      },
      "execution_count": null,
      "outputs": []
    },
    {
      "cell_type": "code",
      "source": [
        "def summarize_daily_forecast(forecast_df):\n",
        "    \"\"\"\n",
        "    סיכום יומי כולל: כמה פריטים צפויים להימכר בכל יום\n",
        "    \"\"\"\n",
        "    return (\n",
        "        forecast_df\n",
        "        .groupby('Date', as_index=False)\n",
        "        .agg(total_predicted_sales=('predicted_quantity', 'sum'))\n",
        "        .sort_values('Date'))"
      ],
      "metadata": {
        "id": "8AIZzW8ayM7v"
      },
      "execution_count": null,
      "outputs": []
    },
    {
      "cell_type": "code",
      "source": [
        "# תחזית לפי טווח תאריכים\n",
        "hybrid_forecast_range = predict_sales_with_sarima_range(\n",
        "    start_date='2025-01-01',\n",
        "    end_date='2025-01-07',\n",
        "    model=model,\n",
        "    full_df=cleaned_data,\n",
        "    model_features=model_features,\n",
        "    desc_map_df=desc_encoding_map)\n",
        "\n",
        "# סכימת תחזיות יומיות\n",
        "daily_summary = summarize_daily_forecast(hybrid_forecast_range)"
      ],
      "metadata": {
        "id": "1oY-Fz55yM5l"
      },
      "execution_count": null,
      "outputs": []
    },
    {
      "cell_type": "code",
      "source": [
        "daily_summary"
      ],
      "metadata": {
        "id": "1FHxFDhT4nxt"
      },
      "execution_count": null,
      "outputs": []
    },
    {
      "cell_type": "code",
      "source": [
        "def plot_daily_forecast(summary_df):\n",
        "    plt.figure(figsize=(10, 5))\n",
        "    plt.plot(summary_df['Date'], summary_df['total_predicted_sales'], marker='o')\n",
        "    plt.title(\"Daily forecast of total expected sales\")\n",
        "    plt.xlabel(\"Date\")\n",
        "    plt.ylabel(\"Total expected items\")\n",
        "    plt.grid(True)\n",
        "    plt.xticks(rotation=45)\n",
        "    plt.tight_layout()\n",
        "    plt.show()"
      ],
      "metadata": {
        "id": "t-rgFnsHDzxw"
      },
      "execution_count": null,
      "outputs": []
    },
    {
      "cell_type": "code",
      "source": [
        "plot_daily_forecast(daily_summary)"
      ],
      "metadata": {
        "id": "ozLEdrEED2dL"
      },
      "execution_count": null,
      "outputs": []
    },
    {
      "cell_type": "code",
      "source": [
        "xgb_only_forecast = predict_sales_by_date_range(\n",
        "    start_date='2025-01-01',\n",
        "    end_date='2025-01-07',\n",
        "    model=model,\n",
        "    full_df=cleaned_data,\n",
        "    model_features=model_features,\n",
        "    desc_map_df=desc_encoding_map)\n",
        "\n",
        "sarima_forecast = predict_sales_with_sarima_range(\n",
        "    start_date='2025-01-01',\n",
        "    end_date='2025-01-07',\n",
        "    model=model,\n",
        "    full_df=cleaned_data,\n",
        "    model_features=model_features,\n",
        "    desc_map_df=desc_encoding_map)"
      ],
      "metadata": {
        "id": "jTtpHWIhD8HM"
      },
      "execution_count": null,
      "outputs": []
    },
    {
      "cell_type": "code",
      "source": [
        "xgb_summary = summarize_daily_forecast(xgb_only_forecast)\n",
        "sarima_summary = summarize_daily_forecast(sarima_forecast)"
      ],
      "metadata": {
        "id": "iQy8wbjAD8Er"
      },
      "execution_count": null,
      "outputs": []
    },
    {
      "cell_type": "code",
      "source": [
        "xgb_summary['Date'] = pd.to_datetime(xgb_summary['Date'])\n",
        "sarima_summary['Date'] = pd.to_datetime(sarima_summary['Date'])"
      ],
      "metadata": {
        "id": "D6z1ZpItHiJa"
      },
      "execution_count": null,
      "outputs": []
    },
    {
      "cell_type": "code",
      "source": [
        "comparison_df = pd.merge(\n",
        "    xgb_summary.rename(columns={'total_predicted_sales': 'XGBoost'}),\n",
        "    sarima_summary.rename(columns={'total_predicted_sales': 'XGBoost + SARIMA'}),\n",
        "    on='Date')"
      ],
      "metadata": {
        "id": "_HUb7nIREB30"
      },
      "execution_count": null,
      "outputs": []
    },
    {
      "cell_type": "code",
      "source": [
        "def plot_forecast_comparison(comparison_df):\n",
        "    plt.figure(figsize=(10, 5))\n",
        "    plt.plot(comparison_df['Date'], comparison_df['XGBoost'], marker='o', label='XGBoost')\n",
        "    plt.plot(comparison_df['Date'], comparison_df['XGBoost + SARIMA'], marker='s', label='XGBoost + SARIMA')\n",
        "    plt.title(\"Daily Forecast Comparison: XGBoost vs. XGBoost + SARIMA\")\n",
        "    plt.xlabel(\"Date\")\n",
        "    plt.ylabel(\"Total expected items\")\n",
        "    plt.grid(True)\n",
        "    plt.legend()\n",
        "    plt.xticks(rotation=45)\n",
        "    plt.tight_layout()\n",
        "    plt.show()"
      ],
      "metadata": {
        "id": "OZOcOgKwEEGf"
      },
      "execution_count": null,
      "outputs": []
    },
    {
      "cell_type": "code",
      "source": [
        "plot_forecast_comparison(comparison_df)"
      ],
      "metadata": {
        "id": "TQvcudK1EHpJ"
      },
      "execution_count": null,
      "outputs": []
    },
    {
      "cell_type": "code",
      "source": [
        "(comparison_df['XGBoost'] == comparison_df['XGBoost + SARIMA']).all()"
      ],
      "metadata": {
        "id": "ebY1gXrcIXpt"
      },
      "execution_count": null,
      "outputs": []
    }
  ]
}