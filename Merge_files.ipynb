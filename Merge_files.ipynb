{
  "nbformat": 4,
  "nbformat_minor": 0,
  "metadata": {
    "colab": {
      "provenance": [],
      "mount_file_id": "1p4x8RhFxqSjsIUOBRjhCWgX3eWkrOg6O",
      "authorship_tag": "ABX9TyNkQTXX27v5d6acTnJQEgBj",
      "include_colab_link": true
    },
    "kernelspec": {
      "name": "python3",
      "display_name": "Python 3"
    },
    "language_info": {
      "name": "python"
    }
  },
  "cells": [
    {
      "cell_type": "markdown",
      "metadata": {
        "id": "view-in-github",
        "colab_type": "text"
      },
      "source": [
        "<a href=\"https://colab.research.google.com/github/Edenshmuel/PapaJohns_Data_Science_Project/blob/Nadav/Merge_files.ipynb\" target=\"_parent\"><img src=\"https://colab.research.google.com/assets/colab-badge.svg\" alt=\"Open In Colab\"/></a>"
      ]
    },
    {
      "cell_type": "markdown",
      "source": [
        "## Consolidate data into one file"
      ],
      "metadata": {
        "id": "s5Egxb0ZL3mR"
      }
    },
    {
      "cell_type": "code",
      "source": [
        "from google.colab import drive\n",
        "drive.flush_and_unmount()"
      ],
      "metadata": {
        "id": "Ssb2UpL4xVVn"
      },
      "execution_count": 1,
      "outputs": []
    },
    {
      "cell_type": "code",
      "execution_count": 2,
      "metadata": {
        "colab": {
          "base_uri": "https://localhost:8080/"
        },
        "id": "ufeX8weFGgp5",
        "outputId": "1f19a301-ed74-4399-eed9-3970d95db3d3"
      },
      "outputs": [
        {
          "output_type": "stream",
          "name": "stdout",
          "text": [
            "Mounted at /content/drive\n"
          ]
        }
      ],
      "source": [
        "from google.colab import drive\n",
        "drive.mount('/content/drive')"
      ]
    },
    {
      "cell_type": "code",
      "source": [
        "path_2022 = '/content/drive/MyDrive/Final_Progect_PapaJohns/2022_combined.xlsx'\n",
        "path_2023 = '/content/drive/MyDrive/Final_Progect_PapaJohns/2023_combined.xlsx'\n",
        "path_2024 = '/content/drive/MyDrive/Final_Progect_PapaJohns/2024_combined.xlsx'"
      ],
      "metadata": {
        "id": "xk1JcnBtP6A7"
      },
      "execution_count": 5,
      "outputs": []
    },
    {
      "cell_type": "code",
      "source": [
        "import pandas as pd\n",
        "\n",
        "df_2022 = pd.read_excel(path_2022)\n",
        "df_2023 = pd.read_excel(path_2023)\n",
        "df_2024 = pd.read_excel(path_2024)"
      ],
      "metadata": {
        "id": "Nj1b77tHP5-x"
      },
      "execution_count": 6,
      "outputs": []
    },
    {
      "cell_type": "markdown",
      "source": [
        "## Merging files into one inclusive file"
      ],
      "metadata": {
        "id": "BBuGN9_KSz2C"
      }
    },
    {
      "cell_type": "code",
      "source": [
        "columns_order = ['Date',\n",
        "    'Month',\n",
        "    'סוג פריט',\n",
        "    'תאור סוג',\n",
        "    \"מס' פריט\",\n",
        "    'תאור פריט',\n",
        "    'הזמנה',\n",
        "    'כמות',\n",
        "    'סכום',\n",
        "    'הנחה לפריט',\n",
        "    'אחרי הנחה',\n",
        "    'Is_original']"
      ],
      "metadata": {
        "id": "NZ-d2Yh2P53s"
      },
      "execution_count": 10,
      "outputs": []
    },
    {
      "cell_type": "code",
      "source": [
        "# 1. df_2022 – מתאים, רק סידור עמודות\n",
        "df_2022_clean = df_2022[columns_order].copy()\n",
        "\n",
        "# 2. df_2023 – הסרת העמודה המיותרת וסידור\n",
        "df_2023_clean = df_2023.drop(columns=['Source File'])[columns_order].copy()\n",
        "\n",
        "# 3. df_2024 – הסרת העמודה \"תאריך\" וסידור\n",
        "df_2024_clean = df_2024.drop(columns=['תאריך'])[columns_order].copy()"
      ],
      "metadata": {
        "id": "sgaqKOupP51P"
      },
      "execution_count": 11,
      "outputs": []
    },
    {
      "cell_type": "code",
      "source": [
        "df_all = pd.concat([df_2022_clean, df_2023_clean, df_2024_clean], ignore_index=True)"
      ],
      "metadata": {
        "id": "bM32xNCWP5r1"
      },
      "execution_count": 12,
      "outputs": []
    },
    {
      "cell_type": "code",
      "source": [
        "df_all.info()"
      ],
      "metadata": {
        "colab": {
          "base_uri": "https://localhost:8080/"
        },
        "id": "qcjrZbL4Tjpk",
        "outputId": "7c347cc0-8a0a-4a27-86f8-5e2a2c29c3eb"
      },
      "execution_count": 13,
      "outputs": [
        {
          "output_type": "stream",
          "name": "stdout",
          "text": [
            "<class 'pandas.core.frame.DataFrame'>\n",
            "RangeIndex: 258194 entries, 0 to 258193\n",
            "Data columns (total 12 columns):\n",
            " #   Column       Non-Null Count   Dtype         \n",
            "---  ------       --------------   -----         \n",
            " 0   Date         255734 non-null  datetime64[ns]\n",
            " 1   Month        258194 non-null  int64         \n",
            " 2   סוג פריט     256298 non-null  object        \n",
            " 3   תאור סוג     239152 non-null  object        \n",
            " 4   מס' פריט     258194 non-null  object        \n",
            " 5   תאור פריט    257188 non-null  object        \n",
            " 6   הזמנה        256298 non-null  float64       \n",
            " 7   כמות         258194 non-null  int64         \n",
            " 8   סכום         256978 non-null  float64       \n",
            " 9   הנחה לפריט   258194 non-null  float64       \n",
            " 10  אחרי הנחה    257946 non-null  float64       \n",
            " 11  Is_original  258194 non-null  int64         \n",
            "dtypes: datetime64[ns](1), float64(4), int64(3), object(4)\n",
            "memory usage: 23.6+ MB\n"
          ]
        }
      ]
    },
    {
      "cell_type": "code",
      "source": [
        "output_path = '/content/drive/MyDrive/Final_Progect_PapaJohns/All_years.csv'\n",
        "\n",
        "df_all.to_csv(output_path, index=False, encoding='utf-8-sig')"
      ],
      "metadata": {
        "id": "LrAu7o39Tjnf"
      },
      "execution_count": 14,
      "outputs": []
    },
    {
      "cell_type": "code",
      "source": [
        "!ls '/content/drive/MyDrive/Final_Progect_PapaJohns'"
      ],
      "metadata": {
        "colab": {
          "base_uri": "https://localhost:8080/"
        },
        "id": "goEIXfUbTjk4",
        "outputId": "fe73c417-e412-4709-d70f-a7265d50ecab"
      },
      "execution_count": 15,
      "outputs": [
        {
          "output_type": "stream",
          "name": "stdout",
          "text": [
            "2022_combined.xlsx  2023_combined.xlsx\t2024_combined.xlsx  All_years.csv  Files\n"
          ]
        }
      ]
    }
  ]
}