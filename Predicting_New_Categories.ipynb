{
  "nbformat": 4,
  "nbformat_minor": 0,
  "metadata": {
    "colab": {
      "provenance": [],
      "authorship_tag": "ABX9TyMn3hlwUPlbZJQMg1OA52mJ",
      "include_colab_link": true
    },
    "kernelspec": {
      "name": "python3",
      "display_name": "Python 3"
    },
    "language_info": {
      "name": "python"
    }
  },
  "cells": [
    {
      "cell_type": "markdown",
      "metadata": {
        "id": "view-in-github",
        "colab_type": "text"
      },
      "source": [
        "<a href=\"https://colab.research.google.com/github/Edenshmuel/PapaJohns_Data_Science_Project/blob/Nadav/Predicting_New_Categories.ipynb\" target=\"_parent\"><img src=\"https://colab.research.google.com/assets/colab-badge.svg\" alt=\"Open In Colab\"/></a>"
      ]
    },
    {
      "cell_type": "markdown",
      "source": [
        "## Importing libraries and reading data"
      ],
      "metadata": {
        "id": "cdcrKav2ynhR"
      }
    },
    {
      "cell_type": "code",
      "source": [
        "# !pip install fuzzywuzzy[speedup]"
      ],
      "metadata": {
        "id": "uA87KY6X9fwb"
      },
      "execution_count": null,
      "outputs": []
    },
    {
      "cell_type": "code",
      "execution_count": 1,
      "metadata": {
        "id": "ExLW_FABaTS6"
      },
      "outputs": [],
      "source": [
        "from google.colab import drive\n",
        "import os\n",
        "import shutil\n",
        "import pandas as pd\n",
        "import numpy as np\n",
        "import re\n",
        "from sklearn.model_selection import train_test_split\n",
        "from sklearn.feature_extraction.text import TfidfVectorizer\n",
        "from xgboost import XGBClassifier\n",
        "from sklearn.pipeline import Pipeline\n",
        "from sklearn.metrics import classification_report\n",
        "from fuzzywuzzy import process"
      ]
    },
    {
      "cell_type": "code",
      "source": [
        "def reconnect_to_drive():\n",
        "    # Disconnect if there is an existing connection\n",
        "    try:\n",
        "        drive.flush_and_unmount()\n",
        "        print(\"📤 Previous connection to Drive was lost\")\n",
        "    except:\n",
        "        print(\"ℹ️ There was no previous connection\")\n",
        "\n",
        "    # Remove the /content/drive folder if it exists\n",
        "    drive_mount_point = '/content/drive'\n",
        "    if os.path.exists(drive_mount_point):\n",
        "        shutil.rmtree(drive_mount_point)\n",
        "        print(\"🗑️ Old mount point removed\")\n",
        "\n",
        "    # Connect to Drive\n",
        "    drive.mount(drive_mount_point)\n",
        "    print(\"📂 Connected to Drive\")\n",
        "\n",
        "reconnect_to_drive()"
      ],
      "metadata": {
        "colab": {
          "base_uri": "https://localhost:8080/"
        },
        "id": "Q_rWFzWJi9or",
        "outputId": "dd9daaab-729d-40e4-e089-ae30442660e9"
      },
      "execution_count": 2,
      "outputs": [
        {
          "output_type": "stream",
          "name": "stdout",
          "text": [
            "Drive not mounted, so nothing to flush and unmount.\n",
            "📤 Previous connection to Drive was lost\n",
            "Mounted at /content/drive\n",
            "📂 Connected to Drive\n"
          ]
        }
      ]
    },
    {
      "cell_type": "code",
      "source": [
        "cleaned_data  = pd.read_csv('/content/drive/MyDrive/Final_Project_PapaJohns/cleaned_data.csv')\n",
        "category_mapping = pd.read_csv('/content/drive/MyDrive/Final_Project_PapaJohns/category_mapping.csv')\n",
        "desc_encoding_map = pd.read_csv('/content/drive/MyDrive/Final_Project_PapaJohns/desc_encoding_map.csv')"
      ],
      "metadata": {
        "id": "HhEzsMPNi9mn"
      },
      "execution_count": 3,
      "outputs": []
    },
    {
      "cell_type": "code",
      "source": [
        "# Replace NaN with \"לא מוגדר\"\n",
        "category_mapping['קטגוריה'] = category_mapping['קטגוריה'].fillna('לא מוגדר')"
      ],
      "metadata": {
        "id": "-bU3ODjswb19"
      },
      "execution_count": 4,
      "outputs": []
    },
    {
      "cell_type": "code",
      "source": [
        "# # שמירה רק של פריטים שנמכרו לפחות 50 פעמים\n",
        "# desc_counts = cleaned_data['clean_desc_encoded'].value_counts()\n",
        "# valid_codes = desc_counts[desc_counts >= 50].index\n",
        "# filtered_cleaned_data = cleaned_data[cleaned_data['clean_desc_encoded'].isin(valid_codes)]"
      ],
      "metadata": {
        "id": "kMCiH8PRLRLR"
      },
      "execution_count": 5,
      "outputs": []
    },
    {
      "cell_type": "code",
      "source": [
        "# print(f\"📊 לפני סינון: {len(cleaned_data)} שורות\")\n",
        "# print(f\"✅ אחרי סינון: {len(filtered_cleaned_data)} שורות\")"
      ],
      "metadata": {
        "id": "ygSi9jxcLRJk"
      },
      "execution_count": 6,
      "outputs": []
    },
    {
      "cell_type": "markdown",
      "source": [
        "## Mergers and training table creation"
      ],
      "metadata": {
        "id": "ptw-Zw8FywWq"
      }
    },
    {
      "cell_type": "code",
      "source": [
        "merged = cleaned_data.merge(desc_encoding_map, left_on='clean_desc_encoded', right_on='code', how='left')\n",
        "merged = merged.merge(category_mapping, left_on='category_encoded', right_on='קוד', how='left')"
      ],
      "metadata": {
        "id": "R4UwQiiTwoqD"
      },
      "execution_count": 7,
      "outputs": []
    },
    {
      "cell_type": "markdown",
      "source": [
        "### 🔍 Why we use only `item_description` as input\n",
        "\n",
        "In this classification task, the goal is to predict the **category of a new product** based solely on its textual description — for example: `\"Coca Cola\"`, `\"Papa Deal\"`, or `\"Greek Salad\"`.\n",
        "\n",
        "We focus only on `item_description` for the following reasons:\n",
        "\n",
        "- ✅ It is the **only available information** when a **new product** is added to the system.\n",
        "- ✅ It contains meaningful linguistic patterns (e.g., \"pizza\", \"drink\", \"sauce\") that are useful for text classification.\n",
        "- ❌ We ignore features like `clean_desc_encoded`, `quantity`, or `date`, since they are either:\n",
        "  - Not available for new products,\n",
        "  - Or irrelevant for categorizing based on name/description alone.\n",
        "\n",
        "This approach ensures that the model:\n",
        "- Can generalize to products it has **never seen before**,\n",
        "- And works **in real-time**, using only the name provided during product creation."
      ],
      "metadata": {
        "id": "VrGdrRUksp-8"
      }
    },
    {
      "cell_type": "code",
      "source": [
        "# Retrieving description and category\n",
        "model_data = merged[['Unnamed: 0', 'קטגוריה']].rename(columns={\n",
        "    'Unnamed: 0': 'item_description',\n",
        "    'קטגוריה': 'category'}).dropna()"
      ],
      "metadata": {
        "id": "3L69JSBEwonh"
      },
      "execution_count": 8,
      "outputs": []
    },
    {
      "cell_type": "code",
      "source": [
        "# Removing the 'לא מוגדר' category from the training\n",
        "model_data = model_data[model_data['category'] != 'לא מוגדר']"
      ],
      "metadata": {
        "id": "-G_KtoUSwolL"
      },
      "execution_count": 9,
      "outputs": []
    },
    {
      "cell_type": "code",
      "source": [
        "additional_examples = pd.DataFrame({\n",
        "    'item_description': [\n",
        "        # Desserts\n",
        "        'עוגת שוקולד חמה', 'עוגת גבינה ניו יורק', 'קינוח שוקולד אישי', 'טירמיסו', 'בראוניז', 'עוגה', 'קינוח',\n",
        "\n",
        "        # Drinks\n",
        "        'קולה דיאט', 'מים מינרליים', 'ספרייט בקבוק', 'תפוחים', 'פפסי', 'מים', 'אקסל', 'נביעות', 'זירו',\n",
        "\n",
        "        # Sauces\n",
        "        'שום שמיר', 'חריף', 'סלסה', 'ברביקיו מעושן', 'אלף האיים', 'רוטב', 'טבסקו',\n",
        "\n",
        "        # Toppings\n",
        "        'בולגרית', 'פטריות טריות', 'זיתים ירוקים', 'אננס', 'עגבניות מיובשות', 'גבינה', 'בצל',\n",
        "\n",
        "        # Main courses\n",
        "        'פיצה מרגריטה', 'פיצה טוסקנית 14', 'פיצה טבעונית אישית', 'פיצה גבינות מיוחדת', 'פיצה נקניק חריף דקה', 'הטבעונית', 'מיוחדת', 'כשרה לפסח',\n",
        "\n",
        "        # Other\n",
        "        'עסקית לילה', 'פיצה זוגית במבצע', 'קופון ראשון', 'שובר הנחה', 'מארז פיצה + שתייה'\n",
        "    ],\n",
        "    'category': [\n",
        "        # Desserts ×7\n",
        "        'קינוח', 'קינוח', 'קינוח', 'קינוח', 'קינוח', 'קינוח', 'קינוח',\n",
        "        # Drinks ×9\n",
        "        'שתייה', 'שתייה', 'שתייה', 'שתייה', 'שתייה', 'שתייה', 'שתייה', 'שתייה', 'שתייה',\n",
        "        # Sauces ×7\n",
        "        'רוטב', 'רוטב', 'רוטב', 'רוטב', 'רוטב', 'רוטב', 'רוטב',\n",
        "        # Toppings ×7\n",
        "        'תוספת', 'תוספת', 'תוספת', 'תוספת', 'תוספת', 'תוספת', 'תוספת',\n",
        "        #  Main courses ×8\n",
        "        'מנה עיקרית', 'מנה עיקרית', 'מנה עיקרית', 'מנה עיקרית', 'מנה עיקרית', 'מנה עיקרית', 'מנה עיקרית', 'מנה עיקרית',\n",
        "        # Other ×5\n",
        "        'אחר', 'אחר', 'אחר', 'אחר', 'אחר'\n",
        "    ]\n",
        "})"
      ],
      "metadata": {
        "id": "4LgJr-RvQmxN"
      },
      "execution_count": 10,
      "outputs": []
    },
    {
      "cell_type": "code",
      "source": [
        "# Connection to existing data\n",
        "model_data = pd.concat([model_data, additional_examples], ignore_index=True)"
      ],
      "metadata": {
        "id": "OAf8WI2DQmul"
      },
      "execution_count": 11,
      "outputs": []
    },
    {
      "cell_type": "code",
      "source": [
        "print(model_data['category'].value_counts(normalize=True))"
      ],
      "metadata": {
        "colab": {
          "base_uri": "https://localhost:8080/"
        },
        "id": "zZOA0eq0Jcph",
        "outputId": "426e78ac-e990-4181-9d2a-1631dddb8a3c"
      },
      "execution_count": 12,
      "outputs": [
        {
          "output_type": "stream",
          "name": "stdout",
          "text": [
            "category\n",
            "מנה עיקרית    0.436732\n",
            "תוספת         0.309246\n",
            "רוטב          0.086999\n",
            "שתייה         0.082705\n",
            "אחר           0.057660\n",
            "קינוח         0.026659\n",
            "Name: proportion, dtype: float64\n"
          ]
        }
      ]
    },
    {
      "cell_type": "markdown",
      "source": [
        "## Mapping categories from the file"
      ],
      "metadata": {
        "id": "fcc_o5-oy4rY"
      }
    },
    {
      "cell_type": "code",
      "source": [
        "# Category Mapping: Text to Code\n",
        "category_to_index = dict(zip(category_mapping['קטגוריה'], category_mapping['קוד']))\n",
        "index_to_category = {v: k for k, v in category_to_index.items()}"
      ],
      "metadata": {
        "id": "CxhA3umowoiu"
      },
      "execution_count": 13,
      "outputs": []
    },
    {
      "cell_type": "code",
      "source": [
        "# Filter category \"לא מוגדר\" from mapping\n",
        "category_to_index.pop('לא מוגדר', None)\n",
        "index_to_category.pop(0, None)"
      ],
      "metadata": {
        "colab": {
          "base_uri": "https://localhost:8080/",
          "height": 36
        },
        "id": "HwkDLL3ywogF",
        "outputId": "997de685-b651-4760-aa51-173f22bae8ec"
      },
      "execution_count": 14,
      "outputs": [
        {
          "output_type": "execute_result",
          "data": {
            "text/plain": [
              "'לא מוגדר'"
            ],
            "application/vnd.google.colaboratory.intrinsic+json": {
              "type": "string"
            }
          },
          "metadata": {},
          "execution_count": 14
        }
      ]
    },
    {
      "cell_type": "markdown",
      "source": [
        "## Balancing categories"
      ],
      "metadata": {
        "id": "khtY4pv-NBB0"
      }
    },
    {
      "cell_type": "code",
      "source": [
        "samples_per_category = 30000\n",
        "balanced_model_data = model_data.groupby('category', group_keys=False).apply(\n",
        "    lambda x: x.sample(n=min(len(x), samples_per_category), random_state=42)\n",
        ").reset_index(drop=True)"
      ],
      "metadata": {
        "colab": {
          "base_uri": "https://localhost:8080/"
        },
        "id": "F26IZuclNAz5",
        "outputId": "c67f2566-bd06-48be-bfe5-f8d8c4e0daf6"
      },
      "execution_count": 15,
      "outputs": [
        {
          "output_type": "stream",
          "name": "stderr",
          "text": [
            "<ipython-input-15-5cef798dea0e>:2: DeprecationWarning: DataFrameGroupBy.apply operated on the grouping columns. This behavior is deprecated, and in a future version of pandas the grouping columns will be excluded from the operation. Either pass `include_groups=False` to exclude the groupings or explicitly select the grouping columns after groupby to silence this warning.\n",
            "  balanced_model_data = model_data.groupby('category', group_keys=False).apply(\n"
          ]
        }
      ]
    },
    {
      "cell_type": "code",
      "source": [
        "print(balanced_model_data['category'].value_counts(normalize=True))"
      ],
      "metadata": {
        "colab": {
          "base_uri": "https://localhost:8080/"
        },
        "id": "xt9d0yjfOR3m",
        "outputId": "1dabafcd-3ade-4324-abca-6846e7644317"
      },
      "execution_count": 16,
      "outputs": [
        {
          "output_type": "stream",
          "name": "stdout",
          "text": [
            "category\n",
            "מנה עיקרית    0.254050\n",
            "תוספת         0.254050\n",
            "רוטב          0.168469\n",
            "שתייה         0.160153\n",
            "אחר           0.111655\n",
            "קינוח         0.051623\n",
            "Name: proportion, dtype: float64\n"
          ]
        }
      ]
    },
    {
      "cell_type": "markdown",
      "source": [
        "## data fragmentation"
      ],
      "metadata": {
        "id": "Vq8km3tuy-kt"
      }
    },
    {
      "cell_type": "code",
      "source": [
        "X = balanced_model_data['item_description']\n",
        "\n",
        "# Encoding the categories from names to numbers\n",
        "y_encoded = balanced_model_data['category'].map(category_to_index)\n",
        "\n",
        "# Adaptation to XGBoost: Making the encoding start from 0\n",
        "y_adjusted = y_encoded - 1"
      ],
      "metadata": {
        "id": "tVXVitnxyNEo"
      },
      "execution_count": 17,
      "outputs": []
    },
    {
      "cell_type": "code",
      "source": [
        "# Split into Train/Test\n",
        "X_train, X_test, y_train, y_test = train_test_split(X, y_adjusted, test_size=0.2, random_state=42, stratify=y_adjusted)"
      ],
      "metadata": {
        "id": "w9K97C8WxJzj"
      },
      "execution_count": 18,
      "outputs": []
    },
    {
      "cell_type": "markdown",
      "source": [
        "## Model building and training"
      ],
      "metadata": {
        "id": "qq0pZn9GzDsS"
      }
    },
    {
      "cell_type": "code",
      "source": [
        "model = Pipeline([\n",
        "    ('tfidf', TfidfVectorizer()),\n",
        "    ('clf', XGBClassifier(use_label_encoder=False, eval_metric='mlogloss'))])\n",
        "\n",
        "model.fit(X_train, y_train)"
      ],
      "metadata": {
        "colab": {
          "base_uri": "https://localhost:8080/",
          "height": 227
        },
        "id": "B1XYqASoxJxj",
        "outputId": "faad5295-d8d8-4e07-f434-40e3dfd401e4"
      },
      "execution_count": 19,
      "outputs": [
        {
          "output_type": "stream",
          "name": "stderr",
          "text": [
            "/usr/local/lib/python3.11/dist-packages/xgboost/core.py:158: UserWarning: [06:49:19] WARNING: /workspace/src/learner.cc:740: \n",
            "Parameters: { \"use_label_encoder\" } are not used.\n",
            "\n",
            "  warnings.warn(smsg, UserWarning)\n"
          ]
        },
        {
          "output_type": "execute_result",
          "data": {
            "text/plain": [
              "Pipeline(steps=[('tfidf', TfidfVectorizer()),\n",
              "                ('clf',\n",
              "                 XGBClassifier(base_score=None, booster=None, callbacks=None,\n",
              "                               colsample_bylevel=None, colsample_bynode=None,\n",
              "                               colsample_bytree=None, device=None,\n",
              "                               early_stopping_rounds=None,\n",
              "                               enable_categorical=False, eval_metric='mlogloss',\n",
              "                               feature_types=None, gamma=None, grow_policy=None,\n",
              "                               importance_type=None,\n",
              "                               interaction_constraints=None, learning_rate=None,\n",
              "                               max_bin=None, max_cat_threshold=None,\n",
              "                               max_cat_to_onehot=None, max_delta_step=None,\n",
              "                               max_depth=None, max_leaves=None,\n",
              "                               min_child_weight=None, missing=nan,\n",
              "                               monotone_constraints=None, multi_strategy=None,\n",
              "                               n_estimators=None, n_jobs=None,\n",
              "                               num_parallel_tree=None,\n",
              "                               objective='multi:softprob', ...))])"
            ],
            "text/html": [
              "<style>#sk-container-id-1 {\n",
              "  /* Definition of color scheme common for light and dark mode */\n",
              "  --sklearn-color-text: #000;\n",
              "  --sklearn-color-text-muted: #666;\n",
              "  --sklearn-color-line: gray;\n",
              "  /* Definition of color scheme for unfitted estimators */\n",
              "  --sklearn-color-unfitted-level-0: #fff5e6;\n",
              "  --sklearn-color-unfitted-level-1: #f6e4d2;\n",
              "  --sklearn-color-unfitted-level-2: #ffe0b3;\n",
              "  --sklearn-color-unfitted-level-3: chocolate;\n",
              "  /* Definition of color scheme for fitted estimators */\n",
              "  --sklearn-color-fitted-level-0: #f0f8ff;\n",
              "  --sklearn-color-fitted-level-1: #d4ebff;\n",
              "  --sklearn-color-fitted-level-2: #b3dbfd;\n",
              "  --sklearn-color-fitted-level-3: cornflowerblue;\n",
              "\n",
              "  /* Specific color for light theme */\n",
              "  --sklearn-color-text-on-default-background: var(--sg-text-color, var(--theme-code-foreground, var(--jp-content-font-color1, black)));\n",
              "  --sklearn-color-background: var(--sg-background-color, var(--theme-background, var(--jp-layout-color0, white)));\n",
              "  --sklearn-color-border-box: var(--sg-text-color, var(--theme-code-foreground, var(--jp-content-font-color1, black)));\n",
              "  --sklearn-color-icon: #696969;\n",
              "\n",
              "  @media (prefers-color-scheme: dark) {\n",
              "    /* Redefinition of color scheme for dark theme */\n",
              "    --sklearn-color-text-on-default-background: var(--sg-text-color, var(--theme-code-foreground, var(--jp-content-font-color1, white)));\n",
              "    --sklearn-color-background: var(--sg-background-color, var(--theme-background, var(--jp-layout-color0, #111)));\n",
              "    --sklearn-color-border-box: var(--sg-text-color, var(--theme-code-foreground, var(--jp-content-font-color1, white)));\n",
              "    --sklearn-color-icon: #878787;\n",
              "  }\n",
              "}\n",
              "\n",
              "#sk-container-id-1 {\n",
              "  color: var(--sklearn-color-text);\n",
              "}\n",
              "\n",
              "#sk-container-id-1 pre {\n",
              "  padding: 0;\n",
              "}\n",
              "\n",
              "#sk-container-id-1 input.sk-hidden--visually {\n",
              "  border: 0;\n",
              "  clip: rect(1px 1px 1px 1px);\n",
              "  clip: rect(1px, 1px, 1px, 1px);\n",
              "  height: 1px;\n",
              "  margin: -1px;\n",
              "  overflow: hidden;\n",
              "  padding: 0;\n",
              "  position: absolute;\n",
              "  width: 1px;\n",
              "}\n",
              "\n",
              "#sk-container-id-1 div.sk-dashed-wrapped {\n",
              "  border: 1px dashed var(--sklearn-color-line);\n",
              "  margin: 0 0.4em 0.5em 0.4em;\n",
              "  box-sizing: border-box;\n",
              "  padding-bottom: 0.4em;\n",
              "  background-color: var(--sklearn-color-background);\n",
              "}\n",
              "\n",
              "#sk-container-id-1 div.sk-container {\n",
              "  /* jupyter's `normalize.less` sets `[hidden] { display: none; }`\n",
              "     but bootstrap.min.css set `[hidden] { display: none !important; }`\n",
              "     so we also need the `!important` here to be able to override the\n",
              "     default hidden behavior on the sphinx rendered scikit-learn.org.\n",
              "     See: https://github.com/scikit-learn/scikit-learn/issues/21755 */\n",
              "  display: inline-block !important;\n",
              "  position: relative;\n",
              "}\n",
              "\n",
              "#sk-container-id-1 div.sk-text-repr-fallback {\n",
              "  display: none;\n",
              "}\n",
              "\n",
              "div.sk-parallel-item,\n",
              "div.sk-serial,\n",
              "div.sk-item {\n",
              "  /* draw centered vertical line to link estimators */\n",
              "  background-image: linear-gradient(var(--sklearn-color-text-on-default-background), var(--sklearn-color-text-on-default-background));\n",
              "  background-size: 2px 100%;\n",
              "  background-repeat: no-repeat;\n",
              "  background-position: center center;\n",
              "}\n",
              "\n",
              "/* Parallel-specific style estimator block */\n",
              "\n",
              "#sk-container-id-1 div.sk-parallel-item::after {\n",
              "  content: \"\";\n",
              "  width: 100%;\n",
              "  border-bottom: 2px solid var(--sklearn-color-text-on-default-background);\n",
              "  flex-grow: 1;\n",
              "}\n",
              "\n",
              "#sk-container-id-1 div.sk-parallel {\n",
              "  display: flex;\n",
              "  align-items: stretch;\n",
              "  justify-content: center;\n",
              "  background-color: var(--sklearn-color-background);\n",
              "  position: relative;\n",
              "}\n",
              "\n",
              "#sk-container-id-1 div.sk-parallel-item {\n",
              "  display: flex;\n",
              "  flex-direction: column;\n",
              "}\n",
              "\n",
              "#sk-container-id-1 div.sk-parallel-item:first-child::after {\n",
              "  align-self: flex-end;\n",
              "  width: 50%;\n",
              "}\n",
              "\n",
              "#sk-container-id-1 div.sk-parallel-item:last-child::after {\n",
              "  align-self: flex-start;\n",
              "  width: 50%;\n",
              "}\n",
              "\n",
              "#sk-container-id-1 div.sk-parallel-item:only-child::after {\n",
              "  width: 0;\n",
              "}\n",
              "\n",
              "/* Serial-specific style estimator block */\n",
              "\n",
              "#sk-container-id-1 div.sk-serial {\n",
              "  display: flex;\n",
              "  flex-direction: column;\n",
              "  align-items: center;\n",
              "  background-color: var(--sklearn-color-background);\n",
              "  padding-right: 1em;\n",
              "  padding-left: 1em;\n",
              "}\n",
              "\n",
              "\n",
              "/* Toggleable style: style used for estimator/Pipeline/ColumnTransformer box that is\n",
              "clickable and can be expanded/collapsed.\n",
              "- Pipeline and ColumnTransformer use this feature and define the default style\n",
              "- Estimators will overwrite some part of the style using the `sk-estimator` class\n",
              "*/\n",
              "\n",
              "/* Pipeline and ColumnTransformer style (default) */\n",
              "\n",
              "#sk-container-id-1 div.sk-toggleable {\n",
              "  /* Default theme specific background. It is overwritten whether we have a\n",
              "  specific estimator or a Pipeline/ColumnTransformer */\n",
              "  background-color: var(--sklearn-color-background);\n",
              "}\n",
              "\n",
              "/* Toggleable label */\n",
              "#sk-container-id-1 label.sk-toggleable__label {\n",
              "  cursor: pointer;\n",
              "  display: flex;\n",
              "  width: 100%;\n",
              "  margin-bottom: 0;\n",
              "  padding: 0.5em;\n",
              "  box-sizing: border-box;\n",
              "  text-align: center;\n",
              "  align-items: start;\n",
              "  justify-content: space-between;\n",
              "  gap: 0.5em;\n",
              "}\n",
              "\n",
              "#sk-container-id-1 label.sk-toggleable__label .caption {\n",
              "  font-size: 0.6rem;\n",
              "  font-weight: lighter;\n",
              "  color: var(--sklearn-color-text-muted);\n",
              "}\n",
              "\n",
              "#sk-container-id-1 label.sk-toggleable__label-arrow:before {\n",
              "  /* Arrow on the left of the label */\n",
              "  content: \"▸\";\n",
              "  float: left;\n",
              "  margin-right: 0.25em;\n",
              "  color: var(--sklearn-color-icon);\n",
              "}\n",
              "\n",
              "#sk-container-id-1 label.sk-toggleable__label-arrow:hover:before {\n",
              "  color: var(--sklearn-color-text);\n",
              "}\n",
              "\n",
              "/* Toggleable content - dropdown */\n",
              "\n",
              "#sk-container-id-1 div.sk-toggleable__content {\n",
              "  max-height: 0;\n",
              "  max-width: 0;\n",
              "  overflow: hidden;\n",
              "  text-align: left;\n",
              "  /* unfitted */\n",
              "  background-color: var(--sklearn-color-unfitted-level-0);\n",
              "}\n",
              "\n",
              "#sk-container-id-1 div.sk-toggleable__content.fitted {\n",
              "  /* fitted */\n",
              "  background-color: var(--sklearn-color-fitted-level-0);\n",
              "}\n",
              "\n",
              "#sk-container-id-1 div.sk-toggleable__content pre {\n",
              "  margin: 0.2em;\n",
              "  border-radius: 0.25em;\n",
              "  color: var(--sklearn-color-text);\n",
              "  /* unfitted */\n",
              "  background-color: var(--sklearn-color-unfitted-level-0);\n",
              "}\n",
              "\n",
              "#sk-container-id-1 div.sk-toggleable__content.fitted pre {\n",
              "  /* unfitted */\n",
              "  background-color: var(--sklearn-color-fitted-level-0);\n",
              "}\n",
              "\n",
              "#sk-container-id-1 input.sk-toggleable__control:checked~div.sk-toggleable__content {\n",
              "  /* Expand drop-down */\n",
              "  max-height: 200px;\n",
              "  max-width: 100%;\n",
              "  overflow: auto;\n",
              "}\n",
              "\n",
              "#sk-container-id-1 input.sk-toggleable__control:checked~label.sk-toggleable__label-arrow:before {\n",
              "  content: \"▾\";\n",
              "}\n",
              "\n",
              "/* Pipeline/ColumnTransformer-specific style */\n",
              "\n",
              "#sk-container-id-1 div.sk-label input.sk-toggleable__control:checked~label.sk-toggleable__label {\n",
              "  color: var(--sklearn-color-text);\n",
              "  background-color: var(--sklearn-color-unfitted-level-2);\n",
              "}\n",
              "\n",
              "#sk-container-id-1 div.sk-label.fitted input.sk-toggleable__control:checked~label.sk-toggleable__label {\n",
              "  background-color: var(--sklearn-color-fitted-level-2);\n",
              "}\n",
              "\n",
              "/* Estimator-specific style */\n",
              "\n",
              "/* Colorize estimator box */\n",
              "#sk-container-id-1 div.sk-estimator input.sk-toggleable__control:checked~label.sk-toggleable__label {\n",
              "  /* unfitted */\n",
              "  background-color: var(--sklearn-color-unfitted-level-2);\n",
              "}\n",
              "\n",
              "#sk-container-id-1 div.sk-estimator.fitted input.sk-toggleable__control:checked~label.sk-toggleable__label {\n",
              "  /* fitted */\n",
              "  background-color: var(--sklearn-color-fitted-level-2);\n",
              "}\n",
              "\n",
              "#sk-container-id-1 div.sk-label label.sk-toggleable__label,\n",
              "#sk-container-id-1 div.sk-label label {\n",
              "  /* The background is the default theme color */\n",
              "  color: var(--sklearn-color-text-on-default-background);\n",
              "}\n",
              "\n",
              "/* On hover, darken the color of the background */\n",
              "#sk-container-id-1 div.sk-label:hover label.sk-toggleable__label {\n",
              "  color: var(--sklearn-color-text);\n",
              "  background-color: var(--sklearn-color-unfitted-level-2);\n",
              "}\n",
              "\n",
              "/* Label box, darken color on hover, fitted */\n",
              "#sk-container-id-1 div.sk-label.fitted:hover label.sk-toggleable__label.fitted {\n",
              "  color: var(--sklearn-color-text);\n",
              "  background-color: var(--sklearn-color-fitted-level-2);\n",
              "}\n",
              "\n",
              "/* Estimator label */\n",
              "\n",
              "#sk-container-id-1 div.sk-label label {\n",
              "  font-family: monospace;\n",
              "  font-weight: bold;\n",
              "  display: inline-block;\n",
              "  line-height: 1.2em;\n",
              "}\n",
              "\n",
              "#sk-container-id-1 div.sk-label-container {\n",
              "  text-align: center;\n",
              "}\n",
              "\n",
              "/* Estimator-specific */\n",
              "#sk-container-id-1 div.sk-estimator {\n",
              "  font-family: monospace;\n",
              "  border: 1px dotted var(--sklearn-color-border-box);\n",
              "  border-radius: 0.25em;\n",
              "  box-sizing: border-box;\n",
              "  margin-bottom: 0.5em;\n",
              "  /* unfitted */\n",
              "  background-color: var(--sklearn-color-unfitted-level-0);\n",
              "}\n",
              "\n",
              "#sk-container-id-1 div.sk-estimator.fitted {\n",
              "  /* fitted */\n",
              "  background-color: var(--sklearn-color-fitted-level-0);\n",
              "}\n",
              "\n",
              "/* on hover */\n",
              "#sk-container-id-1 div.sk-estimator:hover {\n",
              "  /* unfitted */\n",
              "  background-color: var(--sklearn-color-unfitted-level-2);\n",
              "}\n",
              "\n",
              "#sk-container-id-1 div.sk-estimator.fitted:hover {\n",
              "  /* fitted */\n",
              "  background-color: var(--sklearn-color-fitted-level-2);\n",
              "}\n",
              "\n",
              "/* Specification for estimator info (e.g. \"i\" and \"?\") */\n",
              "\n",
              "/* Common style for \"i\" and \"?\" */\n",
              "\n",
              ".sk-estimator-doc-link,\n",
              "a:link.sk-estimator-doc-link,\n",
              "a:visited.sk-estimator-doc-link {\n",
              "  float: right;\n",
              "  font-size: smaller;\n",
              "  line-height: 1em;\n",
              "  font-family: monospace;\n",
              "  background-color: var(--sklearn-color-background);\n",
              "  border-radius: 1em;\n",
              "  height: 1em;\n",
              "  width: 1em;\n",
              "  text-decoration: none !important;\n",
              "  margin-left: 0.5em;\n",
              "  text-align: center;\n",
              "  /* unfitted */\n",
              "  border: var(--sklearn-color-unfitted-level-1) 1pt solid;\n",
              "  color: var(--sklearn-color-unfitted-level-1);\n",
              "}\n",
              "\n",
              ".sk-estimator-doc-link.fitted,\n",
              "a:link.sk-estimator-doc-link.fitted,\n",
              "a:visited.sk-estimator-doc-link.fitted {\n",
              "  /* fitted */\n",
              "  border: var(--sklearn-color-fitted-level-1) 1pt solid;\n",
              "  color: var(--sklearn-color-fitted-level-1);\n",
              "}\n",
              "\n",
              "/* On hover */\n",
              "div.sk-estimator:hover .sk-estimator-doc-link:hover,\n",
              ".sk-estimator-doc-link:hover,\n",
              "div.sk-label-container:hover .sk-estimator-doc-link:hover,\n",
              ".sk-estimator-doc-link:hover {\n",
              "  /* unfitted */\n",
              "  background-color: var(--sklearn-color-unfitted-level-3);\n",
              "  color: var(--sklearn-color-background);\n",
              "  text-decoration: none;\n",
              "}\n",
              "\n",
              "div.sk-estimator.fitted:hover .sk-estimator-doc-link.fitted:hover,\n",
              ".sk-estimator-doc-link.fitted:hover,\n",
              "div.sk-label-container:hover .sk-estimator-doc-link.fitted:hover,\n",
              ".sk-estimator-doc-link.fitted:hover {\n",
              "  /* fitted */\n",
              "  background-color: var(--sklearn-color-fitted-level-3);\n",
              "  color: var(--sklearn-color-background);\n",
              "  text-decoration: none;\n",
              "}\n",
              "\n",
              "/* Span, style for the box shown on hovering the info icon */\n",
              ".sk-estimator-doc-link span {\n",
              "  display: none;\n",
              "  z-index: 9999;\n",
              "  position: relative;\n",
              "  font-weight: normal;\n",
              "  right: .2ex;\n",
              "  padding: .5ex;\n",
              "  margin: .5ex;\n",
              "  width: min-content;\n",
              "  min-width: 20ex;\n",
              "  max-width: 50ex;\n",
              "  color: var(--sklearn-color-text);\n",
              "  box-shadow: 2pt 2pt 4pt #999;\n",
              "  /* unfitted */\n",
              "  background: var(--sklearn-color-unfitted-level-0);\n",
              "  border: .5pt solid var(--sklearn-color-unfitted-level-3);\n",
              "}\n",
              "\n",
              ".sk-estimator-doc-link.fitted span {\n",
              "  /* fitted */\n",
              "  background: var(--sklearn-color-fitted-level-0);\n",
              "  border: var(--sklearn-color-fitted-level-3);\n",
              "}\n",
              "\n",
              ".sk-estimator-doc-link:hover span {\n",
              "  display: block;\n",
              "}\n",
              "\n",
              "/* \"?\"-specific style due to the `<a>` HTML tag */\n",
              "\n",
              "#sk-container-id-1 a.estimator_doc_link {\n",
              "  float: right;\n",
              "  font-size: 1rem;\n",
              "  line-height: 1em;\n",
              "  font-family: monospace;\n",
              "  background-color: var(--sklearn-color-background);\n",
              "  border-radius: 1rem;\n",
              "  height: 1rem;\n",
              "  width: 1rem;\n",
              "  text-decoration: none;\n",
              "  /* unfitted */\n",
              "  color: var(--sklearn-color-unfitted-level-1);\n",
              "  border: var(--sklearn-color-unfitted-level-1) 1pt solid;\n",
              "}\n",
              "\n",
              "#sk-container-id-1 a.estimator_doc_link.fitted {\n",
              "  /* fitted */\n",
              "  border: var(--sklearn-color-fitted-level-1) 1pt solid;\n",
              "  color: var(--sklearn-color-fitted-level-1);\n",
              "}\n",
              "\n",
              "/* On hover */\n",
              "#sk-container-id-1 a.estimator_doc_link:hover {\n",
              "  /* unfitted */\n",
              "  background-color: var(--sklearn-color-unfitted-level-3);\n",
              "  color: var(--sklearn-color-background);\n",
              "  text-decoration: none;\n",
              "}\n",
              "\n",
              "#sk-container-id-1 a.estimator_doc_link.fitted:hover {\n",
              "  /* fitted */\n",
              "  background-color: var(--sklearn-color-fitted-level-3);\n",
              "}\n",
              "</style><div id=\"sk-container-id-1\" class=\"sk-top-container\"><div class=\"sk-text-repr-fallback\"><pre>Pipeline(steps=[(&#x27;tfidf&#x27;, TfidfVectorizer()),\n",
              "                (&#x27;clf&#x27;,\n",
              "                 XGBClassifier(base_score=None, booster=None, callbacks=None,\n",
              "                               colsample_bylevel=None, colsample_bynode=None,\n",
              "                               colsample_bytree=None, device=None,\n",
              "                               early_stopping_rounds=None,\n",
              "                               enable_categorical=False, eval_metric=&#x27;mlogloss&#x27;,\n",
              "                               feature_types=None, gamma=None, grow_policy=None,\n",
              "                               importance_type=None,\n",
              "                               interaction_constraints=None, learning_rate=None,\n",
              "                               max_bin=None, max_cat_threshold=None,\n",
              "                               max_cat_to_onehot=None, max_delta_step=None,\n",
              "                               max_depth=None, max_leaves=None,\n",
              "                               min_child_weight=None, missing=nan,\n",
              "                               monotone_constraints=None, multi_strategy=None,\n",
              "                               n_estimators=None, n_jobs=None,\n",
              "                               num_parallel_tree=None,\n",
              "                               objective=&#x27;multi:softprob&#x27;, ...))])</pre><b>In a Jupyter environment, please rerun this cell to show the HTML representation or trust the notebook. <br />On GitHub, the HTML representation is unable to render, please try loading this page with nbviewer.org.</b></div><div class=\"sk-container\" hidden><div class=\"sk-item sk-dashed-wrapped\"><div class=\"sk-label-container\"><div class=\"sk-label fitted sk-toggleable\"><input class=\"sk-toggleable__control sk-hidden--visually\" id=\"sk-estimator-id-1\" type=\"checkbox\" ><label for=\"sk-estimator-id-1\" class=\"sk-toggleable__label fitted sk-toggleable__label-arrow\"><div><div>Pipeline</div></div><div><a class=\"sk-estimator-doc-link fitted\" rel=\"noreferrer\" target=\"_blank\" href=\"https://scikit-learn.org/1.6/modules/generated/sklearn.pipeline.Pipeline.html\">?<span>Documentation for Pipeline</span></a><span class=\"sk-estimator-doc-link fitted\">i<span>Fitted</span></span></div></label><div class=\"sk-toggleable__content fitted\"><pre>Pipeline(steps=[(&#x27;tfidf&#x27;, TfidfVectorizer()),\n",
              "                (&#x27;clf&#x27;,\n",
              "                 XGBClassifier(base_score=None, booster=None, callbacks=None,\n",
              "                               colsample_bylevel=None, colsample_bynode=None,\n",
              "                               colsample_bytree=None, device=None,\n",
              "                               early_stopping_rounds=None,\n",
              "                               enable_categorical=False, eval_metric=&#x27;mlogloss&#x27;,\n",
              "                               feature_types=None, gamma=None, grow_policy=None,\n",
              "                               importance_type=None,\n",
              "                               interaction_constraints=None, learning_rate=None,\n",
              "                               max_bin=None, max_cat_threshold=None,\n",
              "                               max_cat_to_onehot=None, max_delta_step=None,\n",
              "                               max_depth=None, max_leaves=None,\n",
              "                               min_child_weight=None, missing=nan,\n",
              "                               monotone_constraints=None, multi_strategy=None,\n",
              "                               n_estimators=None, n_jobs=None,\n",
              "                               num_parallel_tree=None,\n",
              "                               objective=&#x27;multi:softprob&#x27;, ...))])</pre></div> </div></div><div class=\"sk-serial\"><div class=\"sk-item\"><div class=\"sk-estimator fitted sk-toggleable\"><input class=\"sk-toggleable__control sk-hidden--visually\" id=\"sk-estimator-id-2\" type=\"checkbox\" ><label for=\"sk-estimator-id-2\" class=\"sk-toggleable__label fitted sk-toggleable__label-arrow\"><div><div>TfidfVectorizer</div></div><div><a class=\"sk-estimator-doc-link fitted\" rel=\"noreferrer\" target=\"_blank\" href=\"https://scikit-learn.org/1.6/modules/generated/sklearn.feature_extraction.text.TfidfVectorizer.html\">?<span>Documentation for TfidfVectorizer</span></a></div></label><div class=\"sk-toggleable__content fitted\"><pre>TfidfVectorizer()</pre></div> </div></div><div class=\"sk-item\"><div class=\"sk-estimator fitted sk-toggleable\"><input class=\"sk-toggleable__control sk-hidden--visually\" id=\"sk-estimator-id-3\" type=\"checkbox\" ><label for=\"sk-estimator-id-3\" class=\"sk-toggleable__label fitted sk-toggleable__label-arrow\"><div><div>XGBClassifier</div></div></label><div class=\"sk-toggleable__content fitted\"><pre>XGBClassifier(base_score=None, booster=None, callbacks=None,\n",
              "              colsample_bylevel=None, colsample_bynode=None,\n",
              "              colsample_bytree=None, device=None, early_stopping_rounds=None,\n",
              "              enable_categorical=False, eval_metric=&#x27;mlogloss&#x27;,\n",
              "              feature_types=None, gamma=None, grow_policy=None,\n",
              "              importance_type=None, interaction_constraints=None,\n",
              "              learning_rate=None, max_bin=None, max_cat_threshold=None,\n",
              "              max_cat_to_onehot=None, max_delta_step=None, max_depth=None,\n",
              "              max_leaves=None, min_child_weight=None, missing=nan,\n",
              "              monotone_constraints=None, multi_strategy=None, n_estimators=None,\n",
              "              n_jobs=None, num_parallel_tree=None, objective=&#x27;multi:softprob&#x27;, ...)</pre></div> </div></div></div></div></div></div>"
            ]
          },
          "metadata": {},
          "execution_count": 19
        }
      ]
    },
    {
      "cell_type": "markdown",
      "source": [
        "## Predicting and returning category names"
      ],
      "metadata": {
        "id": "ALR-QXgVzwgX"
      }
    },
    {
      "cell_type": "code",
      "source": [
        "y_pred = model.predict(X_test)"
      ],
      "metadata": {
        "id": "gnsHjCntxJvJ"
      },
      "execution_count": 20,
      "outputs": []
    },
    {
      "cell_type": "code",
      "source": [
        "# Restore the original encoding\n",
        "y_pred_orig = y_pred + 1\n",
        "y_test_orig = y_test + 1"
      ],
      "metadata": {
        "id": "FqYfhxlnxJsl"
      },
      "execution_count": 21,
      "outputs": []
    },
    {
      "cell_type": "code",
      "source": [
        "# Convert back to category names\n",
        "y_pred_labels = [index_to_category[i] for i in y_pred_orig]\n",
        "y_test_labels = [index_to_category[i] for i in y_test_orig]\n",
        "\n",
        "print(classification_report(y_test_labels, y_pred_labels))"
      ],
      "metadata": {
        "colab": {
          "base_uri": "https://localhost:8080/"
        },
        "id": "8-uC4CPkxJp9",
        "outputId": "337d58de-edc6-47f0-99ed-39111a80d56b"
      },
      "execution_count": 22,
      "outputs": [
        {
          "output_type": "stream",
          "name": "stdout",
          "text": [
            "              precision    recall  f1-score   support\n",
            "\n",
            "         אחר       1.00      1.00      1.00      2637\n",
            "  מנה עיקרית       1.00      1.00      1.00      6000\n",
            "       קינוח       1.00      1.00      1.00      1219\n",
            "        רוטב       0.99      1.00      0.99      3979\n",
            "       שתייה       1.00      0.99      1.00      3783\n",
            "       תוספת       1.00      1.00      1.00      6000\n",
            "\n",
            "    accuracy                           1.00     23618\n",
            "   macro avg       1.00      1.00      1.00     23618\n",
            "weighted avg       1.00      1.00      1.00     23618\n",
            "\n"
          ]
        }
      ]
    },
    {
      "cell_type": "markdown",
      "source": [
        "## New product prediction function (including security)"
      ],
      "metadata": {
        "id": "OcJnYTVO0DYQ"
      }
    },
    {
      "cell_type": "markdown",
      "source": [
        "### 🧠 How the Model Handles Unknown or New Categories\n",
        "\n",
        "This classification model is designed to predict the category of a product **based solely on its description** (`\"Greek Salad\"`, `\"Papa Deal\"`, `\"Coca Cola\"`).\n",
        "\n",
        "#### 🟢 Standard Behavior:\n",
        "- The model uses a trained `TF-IDF + XGBoost` pipeline to predict the **most likely category** from the known set (`'Main Dish'`, `'Drink'`, `'Dessert'`).\n",
        "- These categories are based on the `category_mapping.csv` file and aligned with the internal system codes (1–6).\n",
        "\n",
        "#### ⚠️ Special Handling for New/Unknown Products:\n",
        "- If the model is **not confident enough** in its prediction (the top probability is **below a certain threshold**, such as 0.6),  \n",
        "  it will **not return a specific category**.\n",
        "- Instead, it returns a special label: **\"⚠️ Category not recognized – Unclassified\"**.\n",
        "\n",
        "#### ✅ Why this is important:\n",
        "- It ensures that **new or unusual products** (like limited-time offers or misspelled items) are not forced into incorrect categories.\n",
        "- It also allows system operators to **review and manually classify** such items, or update the model over time.\n",
        "\n",
        "> In summary: the model is capable of both confidently classifying known products and flagging new or unclear ones as \"Unclassified\"."
      ],
      "metadata": {
        "id": "xuTpR4Nk2C8I"
      }
    },
    {
      "cell_type": "code",
      "source": [
        "def predict_from_input(model, index_to_category, additional_examples, threshold=0.6, fuzz_threshold=80):\n",
        "    from fuzzywuzzy import process\n",
        "    import re\n",
        "\n",
        "    def clean_hebrew_text(text):\n",
        "        text = text.strip().lower()\n",
        "        text = re.sub(r'^[הוי]', '', text)  # Removing a single prefix letter\n",
        "        text = re.sub(r'\\s+', ' ', text)\n",
        "        return text\n",
        "\n",
        "    # Create a dictionary from keywords after cleaning\n",
        "    keyword_map = {\n",
        "        clean_hebrew_text(desc): cat\n",
        "        for desc, cat in zip(additional_examples['item_description'], additional_examples['category'])\n",
        "    }\n",
        "\n",
        "    print(\"🔍 Enter a product description (or type 'סיום' to quit):\")\n",
        "    while True:\n",
        "        user_input = input(\"📝 Description: \").strip()\n",
        "        if user_input.lower() == 'סיום':\n",
        "            print(\"👋 Exiting prediction mode.\")\n",
        "            break\n",
        "\n",
        "        cleaned_input = clean_hebrew_text(user_input)\n",
        "\n",
        "        # Step 1: Precise fit after cleaning\n",
        "        if cleaned_input in keyword_map:\n",
        "            print(f\"✅ [מילות מפתח] Predicted category: {keyword_map[cleaned_input]}\")\n",
        "            continue\n",
        "\n",
        "        # Step 2: fuzzy matching on cleaned words\n",
        "        best_match, score = process.extractOne(cleaned_input, list(keyword_map.keys()))\n",
        "        if score >= fuzz_threshold:\n",
        "            print(f\"✅ [התאמה קרובה] Predicted category: {keyword_map[best_match]} (match: {best_match}, score: {score})\")\n",
        "        else:\n",
        "            # Step 3: Using the model\n",
        "            probas = model.predict_proba([user_input])[0]\n",
        "            max_proba = np.max(probas)\n",
        "            predicted_index = np.argmax(probas)\n",
        "            original_index = predicted_index + 1\n",
        "\n",
        "            if max_proba < threshold:\n",
        "                print(\"⚠️ Category not recognized – Unclassified\")\n",
        "            else:\n",
        "                category = index_to_category[original_index]\n",
        "                print(f\"✅ [מודל] Predicted category: {category} (Confidence: {max_proba:.2f})\")"
      ],
      "metadata": {
        "id": "BjzMVK68xJj4"
      },
      "execution_count": 23,
      "outputs": []
    },
    {
      "cell_type": "markdown",
      "source": [
        "## Example of a prediction:"
      ],
      "metadata": {
        "id": "NWjNReYt0K8F"
      }
    },
    {
      "cell_type": "code",
      "source": [
        "predict_from_input(model, index_to_category, additional_examples, threshold=0.6)"
      ],
      "metadata": {
        "colab": {
          "base_uri": "https://localhost:8080/"
        },
        "id": "F9svmzLGxJh5",
        "outputId": "28367dc3-0928-4d73-9df0-2f3d84db148d"
      },
      "execution_count": 24,
      "outputs": [
        {
          "output_type": "stream",
          "name": "stdout",
          "text": [
            "🔍 Enter a product description (or type 'סיום' to quit):\n",
            "📝 Description: עוגת שוקולד\n",
            "✅ [התאמה קרובה] Predicted category: קינוח (match: עוגת שוקולד חמה, score: 95)\n",
            "📝 Description: הטיבעונית\n",
            "✅ [התאמה קרובה] Predicted category: מנה עיקרית (match: טבעונית, score: 93)\n",
            "📝 Description: רוטב סלסה\n",
            "✅ [התאמה קרובה] Predicted category: רוטב (match: סלסה, score: 90)\n",
            "📝 Description: סיום\n",
            "👋 Exiting prediction mode.\n"
          ]
        }
      ]
    }
  ]
}